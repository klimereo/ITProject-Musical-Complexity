{
  "nbformat": 4,
  "nbformat_minor": 0,
  "metadata": {
    "colab": {
      "provenance": [],
      "collapsed_sections": [
        "eM_eWOEb9vgm",
        "5S89biboAaf7",
        "Ugdso7YAAd65",
        "UOdUqWFCArZn",
        "N7r9eltkA9Se"
      ],
      "authorship_tag": "ABX9TyM9ytPFq+wCe5KzDtQXJb9l",
      "include_colab_link": true
    },
    "kernelspec": {
      "name": "python3",
      "display_name": "Python 3"
    },
    "language_info": {
      "name": "python"
    }
  },
  "cells": [
    {
      "cell_type": "markdown",
      "metadata": {
        "id": "view-in-github",
        "colab_type": "text"
      },
      "source": [
        "<a href=\"https://colab.research.google.com/github/klimereo/ITProject-Musical-Complexity/blob/main/IT_Project_Plotifier.ipynb\" target=\"_parent\"><img src=\"https://colab.research.google.com/assets/colab-badge.svg\" alt=\"Open In Colab\"/></a>"
      ]
    },
    {
      "cell_type": "markdown",
      "source": [
        "# Plotting functions"
      ],
      "metadata": {
        "id": "2v1uOiQk9tAu"
      }
    },
    {
      "cell_type": "code",
      "source": [
        "import matplotlib.pyplot as plt\n",
        "from matplotlib.patches import Patch\n",
        "import seaborn as sns\n",
        "import pandas as pd\n",
        "import random\n",
        "import numpy as np"
      ],
      "metadata": {
        "id": "m9Vg2ZJh-RMf"
      },
      "execution_count": 2,
      "outputs": []
    },
    {
      "cell_type": "code",
      "source": [
        "def plot_data(dataframe):\n",
        "    sns.set_theme(style=\"whitegrid\")\n",
        "    unique_periods = dataframe['period'].unique()\n",
        "    patches = [Patch(color=sns.color_palette()[i], label=period.title()) for i, period in enumerate(unique_periods)]\n",
        "    for i, col in enumerate(dataframe[['entropy over notes', 'entropy over chords', 'condentropy over chords', 'summed simple entropies']]):\n",
        "        plt.figure(i)\n",
        "        ax = sns.boxplot(x='period', y=col, data=dataframe)\n",
        "        plt.legend(handles=patches, bbox_to_anchor=(1, 1), loc='upper left')\n",
        "        plt.setp(ax.get_xticklabels(), visible=False)\n",
        "        ax.set_xlabel('Period')\n",
        "        ax.set_ylabel('Entropy')\n",
        "        plt.title('')\n",
        "        plt.savefig(f'{col}.png', dpi=500, bbox_inches='tight')\n",
        "    plt.show()"
      ],
      "metadata": {
        "id": "2orn0Yxe_TAm"
      },
      "execution_count": 25,
      "outputs": []
    },
    {
      "cell_type": "code",
      "source": [
        "def plot_data_pieces(dataframe, column_name):\n",
        "  sns.scatterplot(x='piece name', y= column_name, data=results, hue='period', style='period', s=55)\n",
        "  plt.xticks(rotation=90, fontsize=7)\n",
        "  plt.xlabel('Pieces')\n",
        "  plt.ylabel('Entropy')\n",
        "  plt.legend(bbox_to_anchor=(1.05, 1), loc='upper left')\n",
        "  plt.savefig(f'{column_name}piecewise.png', dpi=500, bbox_inches='tight')\n",
        "  plt.show()\n"
      ],
      "metadata": {
        "id": "kWOS33SCU198"
      },
      "execution_count": 29,
      "outputs": []
    },
    {
      "cell_type": "markdown",
      "source": [
        "# Reading & Preprocessing files"
      ],
      "metadata": {
        "id": "eM_eWOEb9vgm"
      }
    },
    {
      "cell_type": "code",
      "source": [
        "results = pd.read_excel('/content/totalised.xlsx')"
      ],
      "metadata": {
        "id": "LSrzgInf6Zcv"
      },
      "execution_count": 5,
      "outputs": []
    },
    {
      "cell_type": "code",
      "source": [
        "results.dtypes"
      ],
      "metadata": {
        "colab": {
          "base_uri": "https://localhost:8080/"
        },
        "id": "wrivY2nJ6pTB",
        "outputId": "7369202b-29d8-4cec-87ed-54eceaef8b21"
      },
      "execution_count": 6,
      "outputs": [
        {
          "output_type": "execute_result",
          "data": {
            "text/plain": [
              "piece name                  object\n",
              "entropy over notes         float64\n",
              "entropy over chords        float64\n",
              "condentropy over chords    float64\n",
              "period                      object\n",
              "dtype: object"
            ]
          },
          "metadata": {},
          "execution_count": 6
        }
      ]
    },
    {
      "cell_type": "code",
      "source": [
        "results.head()"
      ],
      "metadata": {
        "colab": {
          "base_uri": "https://localhost:8080/",
          "height": 206
        },
        "id": "uxcnhuqN9oKX",
        "outputId": "aa550f8e-a032-48e8-a850-02ea919537e1"
      },
      "execution_count": 7,
      "outputs": [
        {
          "output_type": "execute_result",
          "data": {
            "text/plain": [
              "       piece name  entropy over notes  entropy over chords  \\\n",
              "0        Bach 847              5.5069               7.9522   \n",
              "1  Bach Goldberg               5.6204               7.3151   \n",
              "2        Haydn 50              6.3287               7.6342   \n",
              "3    Mozart Turca              5.9984               6.5878   \n",
              "4    Chopin Waltz              7.4320               7.0981   \n",
              "\n",
              "   condentropy over chords    period  \n",
              "0                 260.3016   baroque  \n",
              "1                 260.2332   baroque  \n",
              "2                 433.0571   baroque  \n",
              "3                 180.2051   baroque  \n",
              "4                 303.3302  romantic  "
            ],
            "text/html": [
              "\n",
              "  <div id=\"df-c7e23883-2d6b-4555-8573-cdbbe0f45595\">\n",
              "    <div class=\"colab-df-container\">\n",
              "      <div>\n",
              "<style scoped>\n",
              "    .dataframe tbody tr th:only-of-type {\n",
              "        vertical-align: middle;\n",
              "    }\n",
              "\n",
              "    .dataframe tbody tr th {\n",
              "        vertical-align: top;\n",
              "    }\n",
              "\n",
              "    .dataframe thead th {\n",
              "        text-align: right;\n",
              "    }\n",
              "</style>\n",
              "<table border=\"1\" class=\"dataframe\">\n",
              "  <thead>\n",
              "    <tr style=\"text-align: right;\">\n",
              "      <th></th>\n",
              "      <th>piece name</th>\n",
              "      <th>entropy over notes</th>\n",
              "      <th>entropy over chords</th>\n",
              "      <th>condentropy over chords</th>\n",
              "      <th>period</th>\n",
              "    </tr>\n",
              "  </thead>\n",
              "  <tbody>\n",
              "    <tr>\n",
              "      <th>0</th>\n",
              "      <td>Bach 847</td>\n",
              "      <td>5.5069</td>\n",
              "      <td>7.9522</td>\n",
              "      <td>260.3016</td>\n",
              "      <td>baroque</td>\n",
              "    </tr>\n",
              "    <tr>\n",
              "      <th>1</th>\n",
              "      <td>Bach Goldberg</td>\n",
              "      <td>5.6204</td>\n",
              "      <td>7.3151</td>\n",
              "      <td>260.2332</td>\n",
              "      <td>baroque</td>\n",
              "    </tr>\n",
              "    <tr>\n",
              "      <th>2</th>\n",
              "      <td>Haydn 50</td>\n",
              "      <td>6.3287</td>\n",
              "      <td>7.6342</td>\n",
              "      <td>433.0571</td>\n",
              "      <td>baroque</td>\n",
              "    </tr>\n",
              "    <tr>\n",
              "      <th>3</th>\n",
              "      <td>Mozart Turca</td>\n",
              "      <td>5.9984</td>\n",
              "      <td>6.5878</td>\n",
              "      <td>180.2051</td>\n",
              "      <td>baroque</td>\n",
              "    </tr>\n",
              "    <tr>\n",
              "      <th>4</th>\n",
              "      <td>Chopin Waltz</td>\n",
              "      <td>7.4320</td>\n",
              "      <td>7.0981</td>\n",
              "      <td>303.3302</td>\n",
              "      <td>romantic</td>\n",
              "    </tr>\n",
              "  </tbody>\n",
              "</table>\n",
              "</div>\n",
              "      <button class=\"colab-df-convert\" onclick=\"convertToInteractive('df-c7e23883-2d6b-4555-8573-cdbbe0f45595')\"\n",
              "              title=\"Convert this dataframe to an interactive table.\"\n",
              "              style=\"display:none;\">\n",
              "        \n",
              "  <svg xmlns=\"http://www.w3.org/2000/svg\" height=\"24px\"viewBox=\"0 0 24 24\"\n",
              "       width=\"24px\">\n",
              "    <path d=\"M0 0h24v24H0V0z\" fill=\"none\"/>\n",
              "    <path d=\"M18.56 5.44l.94 2.06.94-2.06 2.06-.94-2.06-.94-.94-2.06-.94 2.06-2.06.94zm-11 1L8.5 8.5l.94-2.06 2.06-.94-2.06-.94L8.5 2.5l-.94 2.06-2.06.94zm10 10l.94 2.06.94-2.06 2.06-.94-2.06-.94-.94-2.06-.94 2.06-2.06.94z\"/><path d=\"M17.41 7.96l-1.37-1.37c-.4-.4-.92-.59-1.43-.59-.52 0-1.04.2-1.43.59L10.3 9.45l-7.72 7.72c-.78.78-.78 2.05 0 2.83L4 21.41c.39.39.9.59 1.41.59.51 0 1.02-.2 1.41-.59l7.78-7.78 2.81-2.81c.8-.78.8-2.07 0-2.86zM5.41 20L4 18.59l7.72-7.72 1.47 1.35L5.41 20z\"/>\n",
              "  </svg>\n",
              "      </button>\n",
              "      \n",
              "  <style>\n",
              "    .colab-df-container {\n",
              "      display:flex;\n",
              "      flex-wrap:wrap;\n",
              "      gap: 12px;\n",
              "    }\n",
              "\n",
              "    .colab-df-convert {\n",
              "      background-color: #E8F0FE;\n",
              "      border: none;\n",
              "      border-radius: 50%;\n",
              "      cursor: pointer;\n",
              "      display: none;\n",
              "      fill: #1967D2;\n",
              "      height: 32px;\n",
              "      padding: 0 0 0 0;\n",
              "      width: 32px;\n",
              "    }\n",
              "\n",
              "    .colab-df-convert:hover {\n",
              "      background-color: #E2EBFA;\n",
              "      box-shadow: 0px 1px 2px rgba(60, 64, 67, 0.3), 0px 1px 3px 1px rgba(60, 64, 67, 0.15);\n",
              "      fill: #174EA6;\n",
              "    }\n",
              "\n",
              "    [theme=dark] .colab-df-convert {\n",
              "      background-color: #3B4455;\n",
              "      fill: #D2E3FC;\n",
              "    }\n",
              "\n",
              "    [theme=dark] .colab-df-convert:hover {\n",
              "      background-color: #434B5C;\n",
              "      box-shadow: 0px 1px 3px 1px rgba(0, 0, 0, 0.15);\n",
              "      filter: drop-shadow(0px 1px 2px rgba(0, 0, 0, 0.3));\n",
              "      fill: #FFFFFF;\n",
              "    }\n",
              "  </style>\n",
              "\n",
              "      <script>\n",
              "        const buttonEl =\n",
              "          document.querySelector('#df-c7e23883-2d6b-4555-8573-cdbbe0f45595 button.colab-df-convert');\n",
              "        buttonEl.style.display =\n",
              "          google.colab.kernel.accessAllowed ? 'block' : 'none';\n",
              "\n",
              "        async function convertToInteractive(key) {\n",
              "          const element = document.querySelector('#df-c7e23883-2d6b-4555-8573-cdbbe0f45595');\n",
              "          const dataTable =\n",
              "            await google.colab.kernel.invokeFunction('convertToInteractive',\n",
              "                                                     [key], {});\n",
              "          if (!dataTable) return;\n",
              "\n",
              "          const docLinkHtml = 'Like what you see? Visit the ' +\n",
              "            '<a target=\"_blank\" href=https://colab.research.google.com/notebooks/data_table.ipynb>data table notebook</a>'\n",
              "            + ' to learn more about interactive tables.';\n",
              "          element.innerHTML = '';\n",
              "          dataTable['output_type'] = 'display_data';\n",
              "          await google.colab.output.renderOutput(dataTable, element);\n",
              "          const docLink = document.createElement('div');\n",
              "          docLink.innerHTML = docLinkHtml;\n",
              "          element.appendChild(docLink);\n",
              "        }\n",
              "      </script>\n",
              "    </div>\n",
              "  </div>\n",
              "  "
            ]
          },
          "metadata": {},
          "execution_count": 7
        }
      ]
    },
    {
      "cell_type": "code",
      "source": [
        "results['summed simple entropies'] = results.apply(lambda row: row['entropy over notes'] + row['entropy over chords'], axis=1)"
      ],
      "metadata": {
        "id": "_CEE238XIHXg"
      },
      "execution_count": 8,
      "outputs": []
    },
    {
      "cell_type": "code",
      "source": [
        "results['period'] = results['period'].replace('baroque', 'baroque/classical')"
      ],
      "metadata": {
        "id": "14GkUA-4MSmK"
      },
      "execution_count": 9,
      "outputs": []
    },
    {
      "cell_type": "code",
      "source": [
        "results.head()"
      ],
      "metadata": {
        "colab": {
          "base_uri": "https://localhost:8080/",
          "height": 285
        },
        "id": "aJtX2RyxITED",
        "outputId": "ec2e3808-48e8-45f3-d181-14c9f3d14c57"
      },
      "execution_count": 10,
      "outputs": [
        {
          "output_type": "execute_result",
          "data": {
            "text/plain": [
              "       piece name  entropy over notes  entropy over chords  \\\n",
              "0        Bach 847              5.5069               7.9522   \n",
              "1  Bach Goldberg               5.6204               7.3151   \n",
              "2        Haydn 50              6.3287               7.6342   \n",
              "3    Mozart Turca              5.9984               6.5878   \n",
              "4    Chopin Waltz              7.4320               7.0981   \n",
              "\n",
              "   condentropy over chords             period  summed simple entropies  \n",
              "0                 260.3016  baroque/classical                  13.4591  \n",
              "1                 260.2332  baroque/classical                  12.9355  \n",
              "2                 433.0571  baroque/classical                  13.9629  \n",
              "3                 180.2051  baroque/classical                  12.5862  \n",
              "4                 303.3302           romantic                  14.5301  "
            ],
            "text/html": [
              "\n",
              "  <div id=\"df-2e28de8b-30c7-4e1f-8dbb-0c8e685fd0e5\">\n",
              "    <div class=\"colab-df-container\">\n",
              "      <div>\n",
              "<style scoped>\n",
              "    .dataframe tbody tr th:only-of-type {\n",
              "        vertical-align: middle;\n",
              "    }\n",
              "\n",
              "    .dataframe tbody tr th {\n",
              "        vertical-align: top;\n",
              "    }\n",
              "\n",
              "    .dataframe thead th {\n",
              "        text-align: right;\n",
              "    }\n",
              "</style>\n",
              "<table border=\"1\" class=\"dataframe\">\n",
              "  <thead>\n",
              "    <tr style=\"text-align: right;\">\n",
              "      <th></th>\n",
              "      <th>piece name</th>\n",
              "      <th>entropy over notes</th>\n",
              "      <th>entropy over chords</th>\n",
              "      <th>condentropy over chords</th>\n",
              "      <th>period</th>\n",
              "      <th>summed simple entropies</th>\n",
              "    </tr>\n",
              "  </thead>\n",
              "  <tbody>\n",
              "    <tr>\n",
              "      <th>0</th>\n",
              "      <td>Bach 847</td>\n",
              "      <td>5.5069</td>\n",
              "      <td>7.9522</td>\n",
              "      <td>260.3016</td>\n",
              "      <td>baroque/classical</td>\n",
              "      <td>13.4591</td>\n",
              "    </tr>\n",
              "    <tr>\n",
              "      <th>1</th>\n",
              "      <td>Bach Goldberg</td>\n",
              "      <td>5.6204</td>\n",
              "      <td>7.3151</td>\n",
              "      <td>260.2332</td>\n",
              "      <td>baroque/classical</td>\n",
              "      <td>12.9355</td>\n",
              "    </tr>\n",
              "    <tr>\n",
              "      <th>2</th>\n",
              "      <td>Haydn 50</td>\n",
              "      <td>6.3287</td>\n",
              "      <td>7.6342</td>\n",
              "      <td>433.0571</td>\n",
              "      <td>baroque/classical</td>\n",
              "      <td>13.9629</td>\n",
              "    </tr>\n",
              "    <tr>\n",
              "      <th>3</th>\n",
              "      <td>Mozart Turca</td>\n",
              "      <td>5.9984</td>\n",
              "      <td>6.5878</td>\n",
              "      <td>180.2051</td>\n",
              "      <td>baroque/classical</td>\n",
              "      <td>12.5862</td>\n",
              "    </tr>\n",
              "    <tr>\n",
              "      <th>4</th>\n",
              "      <td>Chopin Waltz</td>\n",
              "      <td>7.4320</td>\n",
              "      <td>7.0981</td>\n",
              "      <td>303.3302</td>\n",
              "      <td>romantic</td>\n",
              "      <td>14.5301</td>\n",
              "    </tr>\n",
              "  </tbody>\n",
              "</table>\n",
              "</div>\n",
              "      <button class=\"colab-df-convert\" onclick=\"convertToInteractive('df-2e28de8b-30c7-4e1f-8dbb-0c8e685fd0e5')\"\n",
              "              title=\"Convert this dataframe to an interactive table.\"\n",
              "              style=\"display:none;\">\n",
              "        \n",
              "  <svg xmlns=\"http://www.w3.org/2000/svg\" height=\"24px\"viewBox=\"0 0 24 24\"\n",
              "       width=\"24px\">\n",
              "    <path d=\"M0 0h24v24H0V0z\" fill=\"none\"/>\n",
              "    <path d=\"M18.56 5.44l.94 2.06.94-2.06 2.06-.94-2.06-.94-.94-2.06-.94 2.06-2.06.94zm-11 1L8.5 8.5l.94-2.06 2.06-.94-2.06-.94L8.5 2.5l-.94 2.06-2.06.94zm10 10l.94 2.06.94-2.06 2.06-.94-2.06-.94-.94-2.06-.94 2.06-2.06.94z\"/><path d=\"M17.41 7.96l-1.37-1.37c-.4-.4-.92-.59-1.43-.59-.52 0-1.04.2-1.43.59L10.3 9.45l-7.72 7.72c-.78.78-.78 2.05 0 2.83L4 21.41c.39.39.9.59 1.41.59.51 0 1.02-.2 1.41-.59l7.78-7.78 2.81-2.81c.8-.78.8-2.07 0-2.86zM5.41 20L4 18.59l7.72-7.72 1.47 1.35L5.41 20z\"/>\n",
              "  </svg>\n",
              "      </button>\n",
              "      \n",
              "  <style>\n",
              "    .colab-df-container {\n",
              "      display:flex;\n",
              "      flex-wrap:wrap;\n",
              "      gap: 12px;\n",
              "    }\n",
              "\n",
              "    .colab-df-convert {\n",
              "      background-color: #E8F0FE;\n",
              "      border: none;\n",
              "      border-radius: 50%;\n",
              "      cursor: pointer;\n",
              "      display: none;\n",
              "      fill: #1967D2;\n",
              "      height: 32px;\n",
              "      padding: 0 0 0 0;\n",
              "      width: 32px;\n",
              "    }\n",
              "\n",
              "    .colab-df-convert:hover {\n",
              "      background-color: #E2EBFA;\n",
              "      box-shadow: 0px 1px 2px rgba(60, 64, 67, 0.3), 0px 1px 3px 1px rgba(60, 64, 67, 0.15);\n",
              "      fill: #174EA6;\n",
              "    }\n",
              "\n",
              "    [theme=dark] .colab-df-convert {\n",
              "      background-color: #3B4455;\n",
              "      fill: #D2E3FC;\n",
              "    }\n",
              "\n",
              "    [theme=dark] .colab-df-convert:hover {\n",
              "      background-color: #434B5C;\n",
              "      box-shadow: 0px 1px 3px 1px rgba(0, 0, 0, 0.15);\n",
              "      filter: drop-shadow(0px 1px 2px rgba(0, 0, 0, 0.3));\n",
              "      fill: #FFFFFF;\n",
              "    }\n",
              "  </style>\n",
              "\n",
              "      <script>\n",
              "        const buttonEl =\n",
              "          document.querySelector('#df-2e28de8b-30c7-4e1f-8dbb-0c8e685fd0e5 button.colab-df-convert');\n",
              "        buttonEl.style.display =\n",
              "          google.colab.kernel.accessAllowed ? 'block' : 'none';\n",
              "\n",
              "        async function convertToInteractive(key) {\n",
              "          const element = document.querySelector('#df-2e28de8b-30c7-4e1f-8dbb-0c8e685fd0e5');\n",
              "          const dataTable =\n",
              "            await google.colab.kernel.invokeFunction('convertToInteractive',\n",
              "                                                     [key], {});\n",
              "          if (!dataTable) return;\n",
              "\n",
              "          const docLinkHtml = 'Like what you see? Visit the ' +\n",
              "            '<a target=\"_blank\" href=https://colab.research.google.com/notebooks/data_table.ipynb>data table notebook</a>'\n",
              "            + ' to learn more about interactive tables.';\n",
              "          element.innerHTML = '';\n",
              "          dataTable['output_type'] = 'display_data';\n",
              "          await google.colab.output.renderOutput(dataTable, element);\n",
              "          const docLink = document.createElement('div');\n",
              "          docLink.innerHTML = docLinkHtml;\n",
              "          element.appendChild(docLink);\n",
              "        }\n",
              "      </script>\n",
              "    </div>\n",
              "  </div>\n",
              "  "
            ]
          },
          "metadata": {},
          "execution_count": 10
        }
      ]
    },
    {
      "cell_type": "markdown",
      "source": [
        "# Plotting"
      ],
      "metadata": {
        "id": "iCZ-Dr5B_rdS"
      }
    },
    {
      "cell_type": "markdown",
      "source": [
        "## Period-wise"
      ],
      "metadata": {
        "id": "SESI8FcIYtHt"
      }
    },
    {
      "cell_type": "code",
      "source": [
        "plot_data(results)"
      ],
      "metadata": {
        "colab": {
          "base_uri": "https://localhost:8080/",
          "height": 1000
        },
        "id": "VTpyB7hHNBhp",
        "outputId": "de1d2484-fd39-4ebe-a795-a8640043d355"
      },
      "execution_count": 26,
      "outputs": [
        {
          "output_type": "display_data",
          "data": {
            "text/plain": [
              "<Figure size 432x288 with 1 Axes>"
            ],
            "image/png": "[encoded data removed]"
          },
          "metadata": {}
        },
        {
          "output_type": "display_data",
          "data": {
            "text/plain": [
              "<Figure size 432x288 with 1 Axes>"
            ],
            "image/png": "[encoded data removed]"
          },
          "metadata": {}
        },
        {
          "output_type": "display_data",
          "data": {
            "text/plain": [
              "<Figure size 432x288 with 1 Axes>"
            ],
            "image/png": "[encoded data removed]"
          },
          "metadata": {}
        },
        {
          "output_type": "display_data",
          "data": {
            "text/plain": [
              "<Figure size 432x288 with 1 Axes>"
            ],
            "image/png": "[encoded data removed]"
          },
          "metadata": {}
        }
      ]
    },
    {
      "cell_type": "markdown",
      "source": [
        "## Piecewise"
      ],
      "metadata": {
        "id": "-UpGmMY1YrYs"
      }
    },
    {
      "cell_type": "code",
      "source": [
        "plot_data_pieces(results, 'summed simple entropies')"
      ],
      "metadata": {
        "colab": {
          "base_uri": "https://localhost:8080/",
          "height": 347
        },
        "id": "xT5QbHbtSTCC",
        "outputId": "2e259d52-6ea2-4d30-99e9-e3e58ad20658"
      },
      "execution_count": 30,
      "outputs": [
        {
          "output_type": "display_data",
          "data": {
            "text/plain": [
              "<Figure size 432x288 with 1 Axes>"
            ],
            "image/png": "[encoded data removed]"
          },
          "metadata": {}
        }
      ]
    },
    {
      "cell_type": "code",
      "source": [
        "plot_data_pieces(results, 'entropy over notes')"
      ],
      "metadata": {
        "colab": {
          "base_uri": "https://localhost:8080/",
          "height": 347
        },
        "id": "mg44zty7Yqri",
        "outputId": "7daca450-dd9c-455f-d2c4-f2f632840995"
      },
      "execution_count": 31,
      "outputs": [
        {
          "output_type": "display_data",
          "data": {
            "text/plain": [
              "<Figure size 432x288 with 1 Axes>"
            ],
            "image/png": "[encoded data removed]"
          },
          "metadata": {}
        }
      ]
    },
    {
      "cell_type": "code",
      "source": [
        "plot_data_pieces(results, 'entropy over chords')"
      ],
      "metadata": {
        "colab": {
          "base_uri": "https://localhost:8080/",
          "height": 347
        },
        "id": "_dr4uq_bZsoa",
        "outputId": "4cc0a9b0-ee7c-4df4-9bb2-d88f5fd102a1"
      },
      "execution_count": 32,
      "outputs": [
        {
          "output_type": "display_data",
          "data": {
            "text/plain": [
              "<Figure size 432x288 with 1 Axes>"
            ],
            "image/png": "[encoded data removed]"
          },
          "metadata": {}
        }
      ]
    },
    {
      "cell_type": "code",
      "source": [
        "plot_data_pieces(results, 'condentropy over chords')"
      ],
      "metadata": {
        "colab": {
          "base_uri": "https://localhost:8080/",
          "height": 347
        },
        "id": "5qg7g2RhaJJa",
        "outputId": "fb176095-fa54-41c1-b86b-0253542c6464"
      },
      "execution_count": 33,
      "outputs": [
        {
          "output_type": "display_data",
          "data": {
            "text/plain": [
              "<Figure size 432x288 with 1 Axes>"
            ],
            "image/png": "[encoded data removed]"
          },
          "metadata": {}
        }
      ]
    },
    {
      "cell_type": "code",
      "source": [
        "results"
      ],
      "metadata": {
        "colab": {
          "base_uri": "https://localhost:8080/",
          "height": 630
        },
        "id": "pme9fFBGTD50",
        "outputId": "8e6ef913-ff27-4a4e-bb39-fc2e6499fcd3"
      },
      "execution_count": 34,
      "outputs": [
        {
          "output_type": "execute_result",
          "data": {
            "text/plain": [
              "            piece name  entropy over notes  entropy over chords  \\\n",
              "0             Bach 847              5.5069               7.9522   \n",
              "1       Bach Goldberg               5.6204               7.3151   \n",
              "2             Haydn 50              6.3287               7.6342   \n",
              "3         Mozart Turca              5.9984               6.5878   \n",
              "4         Chopin Waltz              7.4320               7.0981   \n",
              "5    Liszt Liebestraum              6.7803               8.5732   \n",
              "6   Schubert Impromptu              6.6175               8.7216   \n",
              "7     Tchaikovsky June              6.7335               7.9202   \n",
              "8      Schönberg op.11              8.0583               6.7226   \n",
              "9        Bartok Sonata              7.2981               8.1563   \n",
              "10           Debussy 8              6.6640               6.9903   \n",
              "11     Scriabin Flamme              6.8088               7.8881   \n",
              "12      Messiaen Anges              6.4666               7.1194   \n",
              "13     Ligeti Desordre              6.6278               9.6576   \n",
              "14     Xenakis Evryali              9.9549               6.2909   \n",
              "15     Boulez Sonata 1              7.6845               4.6306   \n",
              "\n",
              "    condentropy over chords             period  summed simple entropies  \n",
              "0                  260.3016  baroque/classical                  13.4591  \n",
              "1                  260.2332  baroque/classical                  12.9355  \n",
              "2                  433.0571  baroque/classical                  13.9629  \n",
              "3                  180.2051  baroque/classical                  12.5862  \n",
              "4                  303.3302           romantic                  14.5301  \n",
              "5                  500.3907           romantic                  15.3535  \n",
              "6                  248.4414           romantic                  15.3391  \n",
              "7                  345.8928           romantic                  14.6537  \n",
              "8                  169.6309       early modern                  14.7809  \n",
              "9                  408.4436       early modern                  15.4544  \n",
              "10                 153.8690       early modern                  13.6543  \n",
              "11                 405.2522       early modern                  14.6969  \n",
              "12                 231.0447       contemporary                  13.5860  \n",
              "13                  98.1547       contemporary                  16.2854  \n",
              "14                 400.6002       contemporary                  16.2458  \n",
              "15                 125.4873       contemporary                  12.3151  "
            ],
            "text/html": [
              "\n",
              "  <div id=\"df-abc1a91a-370b-41a1-ac3f-dc78d2cc8247\">\n",
              "    <div class=\"colab-df-container\">\n",
              "      <div>\n",
              "<style scoped>\n",
              "    .dataframe tbody tr th:only-of-type {\n",
              "        vertical-align: middle;\n",
              "    }\n",
              "\n",
              "    .dataframe tbody tr th {\n",
              "        vertical-align: top;\n",
              "    }\n",
              "\n",
              "    .dataframe thead th {\n",
              "        text-align: right;\n",
              "    }\n",
              "</style>\n",
              "<table border=\"1\" class=\"dataframe\">\n",
              "  <thead>\n",
              "    <tr style=\"text-align: right;\">\n",
              "      <th></th>\n",
              "      <th>piece name</th>\n",
              "      <th>entropy over notes</th>\n",
              "      <th>entropy over chords</th>\n",
              "      <th>condentropy over chords</th>\n",
              "      <th>period</th>\n",
              "      <th>summed simple entropies</th>\n",
              "    </tr>\n",
              "  </thead>\n",
              "  <tbody>\n",
              "    <tr>\n",
              "      <th>0</th>\n",
              "      <td>Bach 847</td>\n",
              "      <td>5.5069</td>\n",
              "      <td>7.9522</td>\n",
              "      <td>260.3016</td>\n",
              "      <td>baroque/classical</td>\n",
              "      <td>13.4591</td>\n",
              "    </tr>\n",
              "    <tr>\n",
              "      <th>1</th>\n",
              "      <td>Bach Goldberg</td>\n",
              "      <td>5.6204</td>\n",
              "      <td>7.3151</td>\n",
              "      <td>260.2332</td>\n",
              "      <td>baroque/classical</td>\n",
              "      <td>12.9355</td>\n",
              "    </tr>\n",
              "    <tr>\n",
              "      <th>2</th>\n",
              "      <td>Haydn 50</td>\n",
              "      <td>6.3287</td>\n",
              "      <td>7.6342</td>\n",
              "      <td>433.0571</td>\n",
              "      <td>baroque/classical</td>\n",
              "      <td>13.9629</td>\n",
              "    </tr>\n",
              "    <tr>\n",
              "      <th>3</th>\n",
              "      <td>Mozart Turca</td>\n",
              "      <td>5.9984</td>\n",
              "      <td>6.5878</td>\n",
              "      <td>180.2051</td>\n",
              "      <td>baroque/classical</td>\n",
              "      <td>12.5862</td>\n",
              "    </tr>\n",
              "    <tr>\n",
              "      <th>4</th>\n",
              "      <td>Chopin Waltz</td>\n",
              "      <td>7.4320</td>\n",
              "      <td>7.0981</td>\n",
              "      <td>303.3302</td>\n",
              "      <td>romantic</td>\n",
              "      <td>14.5301</td>\n",
              "    </tr>\n",
              "    <tr>\n",
              "      <th>5</th>\n",
              "      <td>Liszt Liebestraum</td>\n",
              "      <td>6.7803</td>\n",
              "      <td>8.5732</td>\n",
              "      <td>500.3907</td>\n",
              "      <td>romantic</td>\n",
              "      <td>15.3535</td>\n",
              "    </tr>\n",
              "    <tr>\n",
              "      <th>6</th>\n",
              "      <td>Schubert Impromptu</td>\n",
              "      <td>6.6175</td>\n",
              "      <td>8.7216</td>\n",
              "      <td>248.4414</td>\n",
              "      <td>romantic</td>\n",
              "      <td>15.3391</td>\n",
              "    </tr>\n",
              "    <tr>\n",
              "      <th>7</th>\n",
              "      <td>Tchaikovsky June</td>\n",
              "      <td>6.7335</td>\n",
              "      <td>7.9202</td>\n",
              "      <td>345.8928</td>\n",
              "      <td>romantic</td>\n",
              "      <td>14.6537</td>\n",
              "    </tr>\n",
              "    <tr>\n",
              "      <th>8</th>\n",
              "      <td>Schönberg op.11</td>\n",
              "      <td>8.0583</td>\n",
              "      <td>6.7226</td>\n",
              "      <td>169.6309</td>\n",
              "      <td>early modern</td>\n",
              "      <td>14.7809</td>\n",
              "    </tr>\n",
              "    <tr>\n",
              "      <th>9</th>\n",
              "      <td>Bartok Sonata</td>\n",
              "      <td>7.2981</td>\n",
              "      <td>8.1563</td>\n",
              "      <td>408.4436</td>\n",
              "      <td>early modern</td>\n",
              "      <td>15.4544</td>\n",
              "    </tr>\n",
              "    <tr>\n",
              "      <th>10</th>\n",
              "      <td>Debussy 8</td>\n",
              "      <td>6.6640</td>\n",
              "      <td>6.9903</td>\n",
              "      <td>153.8690</td>\n",
              "      <td>early modern</td>\n",
              "      <td>13.6543</td>\n",
              "    </tr>\n",
              "    <tr>\n",
              "      <th>11</th>\n",
              "      <td>Scriabin Flamme</td>\n",
              "      <td>6.8088</td>\n",
              "      <td>7.8881</td>\n",
              "      <td>405.2522</td>\n",
              "      <td>early modern</td>\n",
              "      <td>14.6969</td>\n",
              "    </tr>\n",
              "    <tr>\n",
              "      <th>12</th>\n",
              "      <td>Messiaen Anges</td>\n",
              "      <td>6.4666</td>\n",
              "      <td>7.1194</td>\n",
              "      <td>231.0447</td>\n",
              "      <td>contemporary</td>\n",
              "      <td>13.5860</td>\n",
              "    </tr>\n",
              "    <tr>\n",
              "      <th>13</th>\n",
              "      <td>Ligeti Desordre</td>\n",
              "      <td>6.6278</td>\n",
              "      <td>9.6576</td>\n",
              "      <td>98.1547</td>\n",
              "      <td>contemporary</td>\n",
              "      <td>16.2854</td>\n",
              "    </tr>\n",
              "    <tr>\n",
              "      <th>14</th>\n",
              "      <td>Xenakis Evryali</td>\n",
              "      <td>9.9549</td>\n",
              "      <td>6.2909</td>\n",
              "      <td>400.6002</td>\n",
              "      <td>contemporary</td>\n",
              "      <td>16.2458</td>\n",
              "    </tr>\n",
              "    <tr>\n",
              "      <th>15</th>\n",
              "      <td>Boulez Sonata 1</td>\n",
              "      <td>7.6845</td>\n",
              "      <td>4.6306</td>\n",
              "      <td>125.4873</td>\n",
              "      <td>contemporary</td>\n",
              "      <td>12.3151</td>\n",
              "    </tr>\n",
              "  </tbody>\n",
              "</table>\n",
              "</div>\n",
              "      <button class=\"colab-df-convert\" onclick=\"convertToInteractive('df-abc1a91a-370b-41a1-ac3f-dc78d2cc8247')\"\n",
              "              title=\"Convert this dataframe to an interactive table.\"\n",
              "              style=\"display:none;\">\n",
              "        \n",
              "  <svg xmlns=\"http://www.w3.org/2000/svg\" height=\"24px\"viewBox=\"0 0 24 24\"\n",
              "       width=\"24px\">\n",
              "    <path d=\"M0 0h24v24H0V0z\" fill=\"none\"/>\n",
              "    <path d=\"M18.56 5.44l.94 2.06.94-2.06 2.06-.94-2.06-.94-.94-2.06-.94 2.06-2.06.94zm-11 1L8.5 8.5l.94-2.06 2.06-.94-2.06-.94L8.5 2.5l-.94 2.06-2.06.94zm10 10l.94 2.06.94-2.06 2.06-.94-2.06-.94-.94-2.06-.94 2.06-2.06.94z\"/><path d=\"M17.41 7.96l-1.37-1.37c-.4-.4-.92-.59-1.43-.59-.52 0-1.04.2-1.43.59L10.3 9.45l-7.72 7.72c-.78.78-.78 2.05 0 2.83L4 21.41c.39.39.9.59 1.41.59.51 0 1.02-.2 1.41-.59l7.78-7.78 2.81-2.81c.8-.78.8-2.07 0-2.86zM5.41 20L4 18.59l7.72-7.72 1.47 1.35L5.41 20z\"/>\n",
              "  </svg>\n",
              "      </button>\n",
              "      \n",
              "  <style>\n",
              "    .colab-df-container {\n",
              "      display:flex;\n",
              "      flex-wrap:wrap;\n",
              "      gap: 12px;\n",
              "    }\n",
              "\n",
              "    .colab-df-convert {\n",
              "      background-color: #E8F0FE;\n",
              "      border: none;\n",
              "      border-radius: 50%;\n",
              "      cursor: pointer;\n",
              "      display: none;\n",
              "      fill: #1967D2;\n",
              "      height: 32px;\n",
              "      padding: 0 0 0 0;\n",
              "      width: 32px;\n",
              "    }\n",
              "\n",
              "    .colab-df-convert:hover {\n",
              "      background-color: #E2EBFA;\n",
              "      box-shadow: 0px 1px 2px rgba(60, 64, 67, 0.3), 0px 1px 3px 1px rgba(60, 64, 67, 0.15);\n",
              "      fill: #174EA6;\n",
              "    }\n",
              "\n",
              "    [theme=dark] .colab-df-convert {\n",
              "      background-color: #3B4455;\n",
              "      fill: #D2E3FC;\n",
              "    }\n",
              "\n",
              "    [theme=dark] .colab-df-convert:hover {\n",
              "      background-color: #434B5C;\n",
              "      box-shadow: 0px 1px 3px 1px rgba(0, 0, 0, 0.15);\n",
              "      filter: drop-shadow(0px 1px 2px rgba(0, 0, 0, 0.3));\n",
              "      fill: #FFFFFF;\n",
              "    }\n",
              "  </style>\n",
              "\n",
              "      <script>\n",
              "        const buttonEl =\n",
              "          document.querySelector('#df-abc1a91a-370b-41a1-ac3f-dc78d2cc8247 button.colab-df-convert');\n",
              "        buttonEl.style.display =\n",
              "          google.colab.kernel.accessAllowed ? 'block' : 'none';\n",
              "\n",
              "        async function convertToInteractive(key) {\n",
              "          const element = document.querySelector('#df-abc1a91a-370b-41a1-ac3f-dc78d2cc8247');\n",
              "          const dataTable =\n",
              "            await google.colab.kernel.invokeFunction('convertToInteractive',\n",
              "                                                     [key], {});\n",
              "          if (!dataTable) return;\n",
              "\n",
              "          const docLinkHtml = 'Like what you see? Visit the ' +\n",
              "            '<a target=\"_blank\" href=https://colab.research.google.com/notebooks/data_table.ipynb>data table notebook</a>'\n",
              "            + ' to learn more about interactive tables.';\n",
              "          element.innerHTML = '';\n",
              "          dataTable['output_type'] = 'display_data';\n",
              "          await google.colab.output.renderOutput(dataTable, element);\n",
              "          const docLink = document.createElement('div');\n",
              "          docLink.innerHTML = docLinkHtml;\n",
              "          element.appendChild(docLink);\n",
              "        }\n",
              "      </script>\n",
              "    </div>\n",
              "  </div>\n",
              "  "
            ]
          },
          "metadata": {},
          "execution_count": 34
        }
      ]
    },
    {
      "cell_type": "code",
      "source": [
        "results.describe()"
      ],
      "metadata": {
        "colab": {
          "base_uri": "https://localhost:8080/",
          "height": 300
        },
        "id": "e4hDJwTwawYz",
        "outputId": "86a1b638-5caa-405e-e334-ce5648fdcd67"
      },
      "execution_count": 24,
      "outputs": [
        {
          "output_type": "execute_result",
          "data": {
            "text/plain": [
              "       entropy over notes  entropy over chords  condentropy over chords  \\\n",
              "count           16.000000            16.000000                16.000000   \n",
              "mean             6.911294             7.453638               282.770919   \n",
              "std              1.061262             1.154052               121.834512   \n",
              "min              5.506900             4.630600                98.154700   \n",
              "25%              6.432125             6.923375               177.561550   \n",
              "50%              6.698750             7.474650               260.267400   \n",
              "75%              7.331575             8.003225               401.763200   \n",
              "max              9.954900             9.657600               500.390700   \n",
              "\n",
              "       summed simple entropies  \n",
              "count                16.000000  \n",
              "mean                 14.364931  \n",
              "std                   1.217534  \n",
              "min                  12.315100  \n",
              "25%                  13.554275  \n",
              "50%                  14.591900  \n",
              "75%                  15.342700  \n",
              "max                  16.285400  "
            ],
            "text/html": [
              "\n",
              "  <div id=\"df-39f50add-9c28-418f-bfc4-6f3ad565fda2\">\n",
              "    <div class=\"colab-df-container\">\n",
              "      <div>\n",
              "<style scoped>\n",
              "    .dataframe tbody tr th:only-of-type {\n",
              "        vertical-align: middle;\n",
              "    }\n",
              "\n",
              "    .dataframe tbody tr th {\n",
              "        vertical-align: top;\n",
              "    }\n",
              "\n",
              "    .dataframe thead th {\n",
              "        text-align: right;\n",
              "    }\n",
              "</style>\n",
              "<table border=\"1\" class=\"dataframe\">\n",
              "  <thead>\n",
              "    <tr style=\"text-align: right;\">\n",
              "      <th></th>\n",
              "      <th>entropy over notes</th>\n",
              "      <th>entropy over chords</th>\n",
              "      <th>condentropy over chords</th>\n",
              "      <th>summed simple entropies</th>\n",
              "    </tr>\n",
              "  </thead>\n",
              "  <tbody>\n",
              "    <tr>\n",
              "      <th>count</th>\n",
              "      <td>16.000000</td>\n",
              "      <td>16.000000</td>\n",
              "      <td>16.000000</td>\n",
              "      <td>16.000000</td>\n",
              "    </tr>\n",
              "    <tr>\n",
              "      <th>mean</th>\n",
              "      <td>6.911294</td>\n",
              "      <td>7.453638</td>\n",
              "      <td>282.770919</td>\n",
              "      <td>14.364931</td>\n",
              "    </tr>\n",
              "    <tr>\n",
              "      <th>std</th>\n",
              "      <td>1.061262</td>\n",
              "      <td>1.154052</td>\n",
              "      <td>121.834512</td>\n",
              "      <td>1.217534</td>\n",
              "    </tr>\n",
              "    <tr>\n",
              "      <th>min</th>\n",
              "      <td>5.506900</td>\n",
              "      <td>4.630600</td>\n",
              "      <td>98.154700</td>\n",
              "      <td>12.315100</td>\n",
              "    </tr>\n",
              "    <tr>\n",
              "      <th>25%</th>\n",
              "      <td>6.432125</td>\n",
              "      <td>6.923375</td>\n",
              "      <td>177.561550</td>\n",
              "      <td>13.554275</td>\n",
              "    </tr>\n",
              "    <tr>\n",
              "      <th>50%</th>\n",
              "      <td>6.698750</td>\n",
              "      <td>7.474650</td>\n",
              "      <td>260.267400</td>\n",
              "      <td>14.591900</td>\n",
              "    </tr>\n",
              "    <tr>\n",
              "      <th>75%</th>\n",
              "      <td>7.331575</td>\n",
              "      <td>8.003225</td>\n",
              "      <td>401.763200</td>\n",
              "      <td>15.342700</td>\n",
              "    </tr>\n",
              "    <tr>\n",
              "      <th>max</th>\n",
              "      <td>9.954900</td>\n",
              "      <td>9.657600</td>\n",
              "      <td>500.390700</td>\n",
              "      <td>16.285400</td>\n",
              "    </tr>\n",
              "  </tbody>\n",
              "</table>\n",
              "</div>\n",
              "      <button class=\"colab-df-convert\" onclick=\"convertToInteractive('df-39f50add-9c28-418f-bfc4-6f3ad565fda2')\"\n",
              "              title=\"Convert this dataframe to an interactive table.\"\n",
              "              style=\"display:none;\">\n",
              "        \n",
              "  <svg xmlns=\"http://www.w3.org/2000/svg\" height=\"24px\"viewBox=\"0 0 24 24\"\n",
              "       width=\"24px\">\n",
              "    <path d=\"M0 0h24v24H0V0z\" fill=\"none\"/>\n",
              "    <path d=\"M18.56 5.44l.94 2.06.94-2.06 2.06-.94-2.06-.94-.94-2.06-.94 2.06-2.06.94zm-11 1L8.5 8.5l.94-2.06 2.06-.94-2.06-.94L8.5 2.5l-.94 2.06-2.06.94zm10 10l.94 2.06.94-2.06 2.06-.94-2.06-.94-.94-2.06-.94 2.06-2.06.94z\"/><path d=\"M17.41 7.96l-1.37-1.37c-.4-.4-.92-.59-1.43-.59-.52 0-1.04.2-1.43.59L10.3 9.45l-7.72 7.72c-.78.78-.78 2.05 0 2.83L4 21.41c.39.39.9.59 1.41.59.51 0 1.02-.2 1.41-.59l7.78-7.78 2.81-2.81c.8-.78.8-2.07 0-2.86zM5.41 20L4 18.59l7.72-7.72 1.47 1.35L5.41 20z\"/>\n",
              "  </svg>\n",
              "      </button>\n",
              "      \n",
              "  <style>\n",
              "    .colab-df-container {\n",
              "      display:flex;\n",
              "      flex-wrap:wrap;\n",
              "      gap: 12px;\n",
              "    }\n",
              "\n",
              "    .colab-df-convert {\n",
              "      background-color: #E8F0FE;\n",
              "      border: none;\n",
              "      border-radius: 50%;\n",
              "      cursor: pointer;\n",
              "      display: none;\n",
              "      fill: #1967D2;\n",
              "      height: 32px;\n",
              "      padding: 0 0 0 0;\n",
              "      width: 32px;\n",
              "    }\n",
              "\n",
              "    .colab-df-convert:hover {\n",
              "      background-color: #E2EBFA;\n",
              "      box-shadow: 0px 1px 2px rgba(60, 64, 67, 0.3), 0px 1px 3px 1px rgba(60, 64, 67, 0.15);\n",
              "      fill: #174EA6;\n",
              "    }\n",
              "\n",
              "    [theme=dark] .colab-df-convert {\n",
              "      background-color: #3B4455;\n",
              "      fill: #D2E3FC;\n",
              "    }\n",
              "\n",
              "    [theme=dark] .colab-df-convert:hover {\n",
              "      background-color: #434B5C;\n",
              "      box-shadow: 0px 1px 3px 1px rgba(0, 0, 0, 0.15);\n",
              "      filter: drop-shadow(0px 1px 2px rgba(0, 0, 0, 0.3));\n",
              "      fill: #FFFFFF;\n",
              "    }\n",
              "  </style>\n",
              "\n",
              "      <script>\n",
              "        const buttonEl =\n",
              "          document.querySelector('#df-39f50add-9c28-418f-bfc4-6f3ad565fda2 button.colab-df-convert');\n",
              "        buttonEl.style.display =\n",
              "          google.colab.kernel.accessAllowed ? 'block' : 'none';\n",
              "\n",
              "        async function convertToInteractive(key) {\n",
              "          const element = document.querySelector('#df-39f50add-9c28-418f-bfc4-6f3ad565fda2');\n",
              "          const dataTable =\n",
              "            await google.colab.kernel.invokeFunction('convertToInteractive',\n",
              "                                                     [key], {});\n",
              "          if (!dataTable) return;\n",
              "\n",
              "          const docLinkHtml = 'Like what you see? Visit the ' +\n",
              "            '<a target=\"_blank\" href=https://colab.research.google.com/notebooks/data_table.ipynb>data table notebook</a>'\n",
              "            + ' to learn more about interactive tables.';\n",
              "          element.innerHTML = '';\n",
              "          dataTable['output_type'] = 'display_data';\n",
              "          await google.colab.output.renderOutput(dataTable, element);\n",
              "          const docLink = document.createElement('div');\n",
              "          docLink.innerHTML = docLinkHtml;\n",
              "          element.appendChild(docLink);\n",
              "        }\n",
              "      </script>\n",
              "    </div>\n",
              "  </div>\n",
              "  "
            ]
          },
          "metadata": {},
          "execution_count": 24
        }
      ]
    }
  ]
}
