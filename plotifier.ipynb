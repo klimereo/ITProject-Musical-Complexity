{
  "nbformat": 4,
  "nbformat_minor": 0,
  "metadata": {
    "colab": {
      "provenance": [],
      "collapsed_sections": [
        "eM_eWOEb9vgm",
        "5S89biboAaf7",
        "Ugdso7YAAd65",
        "UOdUqWFCArZn",
        "N7r9eltkA9Se"
      ],
      "authorship_tag": "ABX9TyOuHrKXsmY9vaqYZjxCoD7O"
    },
    "kernelspec": {
      "name": "python3",
      "display_name": "Python 3"
    },
    "language_info": {
      "name": "python"
    }
  },
  "cells": [
    {
      "cell_type": "markdown",
      "source": [
        "# Plotting functions"
      ],
      "metadata": {
        "id": "2v1uOiQk9tAu"
      }
    },
    {
      "cell_type": "code",
      "source": [
        "import matplotlib.pyplot as plt\n",
        "import seaborn as sns\n",
        "import pandas as pd\n",
        "import random"
      ],
      "metadata": {
        "id": "m9Vg2ZJh-RMf"
      },
      "execution_count": 33,
      "outputs": []
    },
    {
      "cell_type": "code",
      "execution_count": 20,
      "metadata": {
        "id": "GUQ-1LZS9lzE"
      },
      "outputs": [],
      "source": [
        "def plot_bar_chart(data, title, xlabel):\n",
        "    df = pd.DataFrame(list(data.items()), columns=[\"Category\",\"Entropy\"])\n",
        "    sns.barplot(x='Category', y='Entropy', data=df)\n",
        "    plt.title(title)\n",
        "    plt.xlabel(xlabel)\n",
        "    plt.xticks(rotation=90)\n",
        "    plt.show()"
      ]
    },
    {
      "cell_type": "code",
      "source": [
        "def create_dataframe(data_list):\n",
        "    df = pd.DataFrame(columns=[\"Entropy\", \"Piece\", \"Period\"])\n",
        "    for i, data_dict in enumerate(data_list):\n",
        "        for piece, value in data_dict.items():\n",
        "            df = df.append({\"Entropy\": value, \"Piece\": piece, \"Period\": i}, ignore_index=True)\n",
        "    return df"
      ],
      "metadata": {
        "id": "OI0YWFabDNVD"
      },
      "execution_count": 50,
      "outputs": []
    },
    {
      "cell_type": "code",
      "source": [
        "def plot_by_period(df):\n",
        "    df = df.rename(columns={'period': 'Period', 'numeric value': 'Entropy'})\n",
        "    pallete = sns.color_palette(\"husl\", len(df.Period.unique()))\n",
        "    ax = sns.boxplot(x='Period', y='Entropy', data=df, whis='range',palette=pallete)\n",
        "    plt.title('Entropy over Notes by Period', fontsize=13)\n",
        "    plt.xlabel('Period', fontsize= 11, labelpad=25)\n",
        "    plt.ylabel('Entropy', fontsize= 11)\n",
        "    sns.despine(offset=10, trim=True)\n",
        "    plt.show()"
      ],
      "metadata": {
        "id": "g_jtFwTfGyP6"
      },
      "execution_count": 80,
      "outputs": []
    },
    {
      "cell_type": "markdown",
      "source": [
        "# Reading files"
      ],
      "metadata": {
        "id": "eM_eWOEb9vgm"
      }
    },
    {
      "cell_type": "code",
      "source": [
        "import json\n",
        "\n",
        "def read_json_to_dict(file_path):\n",
        "    with open(file_path, 'r') as f:\n",
        "        json_data = json.load(f)\n",
        "    data = {}\n",
        "    for key, value in json_data.items():\n",
        "        data[key] = value\n",
        "    return data"
      ],
      "metadata": {
        "id": "dxvGPhgF-AJv"
      },
      "execution_count": 6,
      "outputs": []
    },
    {
      "cell_type": "code",
      "source": [
        "barok_results = read_json_to_dict('barok_shentropy.json')\n",
        "romantik_results = read_json_to_dict('romantik_shentropy.json')\n",
        "earlymodern_results = read_json_to_dict('earlymodern_shentropy.json')\n",
        "contemporary_results = read_json_to_dict('contemporary_shentropy.json')"
      ],
      "metadata": {
        "id": "L8ie6waI-F16"
      },
      "execution_count": 16,
      "outputs": []
    },
    {
      "cell_type": "markdown",
      "source": [
        "# Plotting"
      ],
      "metadata": {
        "id": "iCZ-Dr5B_rdS"
      }
    },
    {
      "cell_type": "markdown",
      "source": [
        "## Entropy Over Notes"
      ],
      "metadata": {
        "id": "XawQAIC9AwB_"
      }
    },
    {
      "cell_type": "markdown",
      "source": [
        "### Barok / Classical Entropy"
      ],
      "metadata": {
        "id": "5S89biboAaf7"
      }
    },
    {
      "cell_type": "code",
      "source": [
        "plot_bar_chart(barok_results, 'Baroque / Classical Results', 'Pieces')"
      ],
      "metadata": {
        "colab": {
          "base_uri": "https://localhost:8080/",
          "height": 371
        },
        "id": "-rUc6yCJ-NeT",
        "outputId": "f3e2169f-642a-4b35-c26f-502abb97fa13"
      },
      "execution_count": 21,
      "outputs": [
        {
          "output_type": "display_data",
          "data": {
            "text/plain": [
              "<Figure size 432x288 with 1 Axes>"
            ],
            "image/png": "[encoded data removed]"
          },
          "metadata": {
            "needs_background": "light"
          }
        }
      ]
    },
    {
      "cell_type": "markdown",
      "source": [
        "### Romantic Entropy"
      ],
      "metadata": {
        "id": "Ugdso7YAAd65"
      }
    },
    {
      "cell_type": "code",
      "source": [
        "plot_bar_chart(romantik_results, 'Romantic Results', 'Pieces')"
      ],
      "metadata": {
        "colab": {
          "base_uri": "https://localhost:8080/",
          "height": 388
        },
        "id": "x5rsmcmjAgaz",
        "outputId": "e59c33ce-5bbd-4561-9273-02673db2e0e7"
      },
      "execution_count": 22,
      "outputs": [
        {
          "output_type": "display_data",
          "data": {
            "text/plain": [
              "<Figure size 432x288 with 1 Axes>"
            ],
            "image/png": "[encoded data removed]"
          },
          "metadata": {
            "needs_background": "light"
          }
        }
      ]
    },
    {
      "cell_type": "markdown",
      "source": [
        "### Early Modern"
      ],
      "metadata": {
        "id": "UOdUqWFCArZn"
      }
    },
    {
      "cell_type": "code",
      "source": [
        "plot_bar_chart(earlymodern_results, 'Early Modern Results', 'Pieces')"
      ],
      "metadata": {
        "colab": {
          "base_uri": "https://localhost:8080/",
          "height": 408
        },
        "id": "s3VucihwAqpj",
        "outputId": "71761154-eee0-4372-a47e-f79f127db103"
      },
      "execution_count": 23,
      "outputs": [
        {
          "output_type": "display_data",
          "data": {
            "text/plain": [
              "<Figure size 432x288 with 1 Axes>"
            ],
            "image/png": "[encoded data removed]"
          },
          "metadata": {
            "needs_background": "light"
          }
        }
      ]
    },
    {
      "cell_type": "markdown",
      "source": [
        "### Contemporary Results"
      ],
      "metadata": {
        "id": "N7r9eltkA9Se"
      }
    },
    {
      "cell_type": "code",
      "source": [
        "plot_bar_chart(contemporary_results, 'Early Modern Results', 'Pieces')"
      ],
      "metadata": {
        "colab": {
          "base_uri": "https://localhost:8080/",
          "height": 398
        },
        "id": "FmuW_AIPA8hy",
        "outputId": "5b0683b3-d28b-4ce9-dcd6-2825be1eef92"
      },
      "execution_count": 24,
      "outputs": [
        {
          "output_type": "display_data",
          "data": {
            "text/plain": [
              "<Figure size 432x288 with 1 Axes>"
            ],
            "image/png": "[encoded data removed]"
          },
          "metadata": {
            "needs_background": "light"
          }
        }
      ]
    },
    {
      "cell_type": "markdown",
      "source": [
        "### All at once"
      ],
      "metadata": {
        "id": "fpcPH4dHBTTb"
      }
    },
    {
      "cell_type": "code",
      "source": [
        "list_of_results =  [contemporary_results, earlymodern_results, romantik_results, barok_results ]\n",
        "dataframe_of_results = create_dataframe(list_of_results)"
      ],
      "metadata": {
        "id": "G7UH44q5Bay8"
      },
      "execution_count": 51,
      "outputs": []
    },
    {
      "cell_type": "code",
      "source": [
        "dataframe_of_results"
      ],
      "metadata": {
        "colab": {
          "base_uri": "https://localhost:8080/",
          "height": 551
        },
        "id": "VEJY_v1EFXGX",
        "outputId": "7453c4dd-fb51-4b0f-c353-bd7db295e69d"
      },
      "execution_count": 52,
      "outputs": [
        {
          "output_type": "execute_result",
          "data": {
            "text/plain": [
              "     Entropy                    Piece Period\n",
              "0   6.466679       Messiaen Les Anges      0\n",
              "1   7.684505    Boulez Premier Sonata      0\n",
              "2   9.954933          Xenakis Evryali      0\n",
              "3   6.627844          Ligeti Disordre      0\n",
              "4   6.808891  Scriabin Vers La Flamme      1\n",
              "5   6.664076       Debussy Prelude 8:      1\n",
              "6   8.058324      Schoenberg op11mvt3      1\n",
              "7   7.298192     Bartok Sonata 1 Mvt1      1\n",
              "8   7.432078             Chopin Waltz      2\n",
              "9   6.780336        Lizst Liebestraum      2\n",
              "10  6.617534       Schubert Impromptu      2\n",
              "11  6.733573         Tchaikovsky June      2\n",
              "12  5.506950                 Bach 847      3\n",
              "13  5.620436          Bach Goldberg 1      3\n",
              "14  6.328727          Haydn Sonata 50      3\n",
              "15  5.998408        Mozart Alla Turca      3"
            ],
            "text/html": [
              "\n",
              "  <div id=\"df-77a0e3ba-fad9-4876-81da-796159b61d27\">\n",
              "    <div class=\"colab-df-container\">\n",
              "      <div>\n",
              "<style scoped>\n",
              "    .dataframe tbody tr th:only-of-type {\n",
              "        vertical-align: middle;\n",
              "    }\n",
              "\n",
              "    .dataframe tbody tr th {\n",
              "        vertical-align: top;\n",
              "    }\n",
              "\n",
              "    .dataframe thead th {\n",
              "        text-align: right;\n",
              "    }\n",
              "</style>\n",
              "<table border=\"1\" class=\"dataframe\">\n",
              "  <thead>\n",
              "    <tr style=\"text-align: right;\">\n",
              "      <th></th>\n",
              "      <th>Entropy</th>\n",
              "      <th>Piece</th>\n",
              "      <th>Period</th>\n",
              "    </tr>\n",
              "  </thead>\n",
              "  <tbody>\n",
              "    <tr>\n",
              "      <th>0</th>\n",
              "      <td>6.466679</td>\n",
              "      <td>Messiaen Les Anges</td>\n",
              "      <td>0</td>\n",
              "    </tr>\n",
              "    <tr>\n",
              "      <th>1</th>\n",
              "      <td>7.684505</td>\n",
              "      <td>Boulez Premier Sonata</td>\n",
              "      <td>0</td>\n",
              "    </tr>\n",
              "    <tr>\n",
              "      <th>2</th>\n",
              "      <td>9.954933</td>\n",
              "      <td>Xenakis Evryali</td>\n",
              "      <td>0</td>\n",
              "    </tr>\n",
              "    <tr>\n",
              "      <th>3</th>\n",
              "      <td>6.627844</td>\n",
              "      <td>Ligeti Disordre</td>\n",
              "      <td>0</td>\n",
              "    </tr>\n",
              "    <tr>\n",
              "      <th>4</th>\n",
              "      <td>6.808891</td>\n",
              "      <td>Scriabin Vers La Flamme</td>\n",
              "      <td>1</td>\n",
              "    </tr>\n",
              "    <tr>\n",
              "      <th>5</th>\n",
              "      <td>6.664076</td>\n",
              "      <td>Debussy Prelude 8:</td>\n",
              "      <td>1</td>\n",
              "    </tr>\n",
              "    <tr>\n",
              "      <th>6</th>\n",
              "      <td>8.058324</td>\n",
              "      <td>Schoenberg op11mvt3</td>\n",
              "      <td>1</td>\n",
              "    </tr>\n",
              "    <tr>\n",
              "      <th>7</th>\n",
              "      <td>7.298192</td>\n",
              "      <td>Bartok Sonata 1 Mvt1</td>\n",
              "      <td>1</td>\n",
              "    </tr>\n",
              "    <tr>\n",
              "      <th>8</th>\n",
              "      <td>7.432078</td>\n",
              "      <td>Chopin Waltz</td>\n",
              "      <td>2</td>\n",
              "    </tr>\n",
              "    <tr>\n",
              "      <th>9</th>\n",
              "      <td>6.780336</td>\n",
              "      <td>Lizst Liebestraum</td>\n",
              "      <td>2</td>\n",
              "    </tr>\n",
              "    <tr>\n",
              "      <th>10</th>\n",
              "      <td>6.617534</td>\n",
              "      <td>Schubert Impromptu</td>\n",
              "      <td>2</td>\n",
              "    </tr>\n",
              "    <tr>\n",
              "      <th>11</th>\n",
              "      <td>6.733573</td>\n",
              "      <td>Tchaikovsky June</td>\n",
              "      <td>2</td>\n",
              "    </tr>\n",
              "    <tr>\n",
              "      <th>12</th>\n",
              "      <td>5.506950</td>\n",
              "      <td>Bach 847</td>\n",
              "      <td>3</td>\n",
              "    </tr>\n",
              "    <tr>\n",
              "      <th>13</th>\n",
              "      <td>5.620436</td>\n",
              "      <td>Bach Goldberg 1</td>\n",
              "      <td>3</td>\n",
              "    </tr>\n",
              "    <tr>\n",
              "      <th>14</th>\n",
              "      <td>6.328727</td>\n",
              "      <td>Haydn Sonata 50</td>\n",
              "      <td>3</td>\n",
              "    </tr>\n",
              "    <tr>\n",
              "      <th>15</th>\n",
              "      <td>5.998408</td>\n",
              "      <td>Mozart Alla Turca</td>\n",
              "      <td>3</td>\n",
              "    </tr>\n",
              "  </tbody>\n",
              "</table>\n",
              "</div>\n",
              "      <button class=\"colab-df-convert\" onclick=\"convertToInteractive('df-77a0e3ba-fad9-4876-81da-796159b61d27')\"\n",
              "              title=\"Convert this dataframe to an interactive table.\"\n",
              "              style=\"display:none;\">\n",
              "        \n",
              "  <svg xmlns=\"http://www.w3.org/2000/svg\" height=\"24px\"viewBox=\"0 0 24 24\"\n",
              "       width=\"24px\">\n",
              "    <path d=\"M0 0h24v24H0V0z\" fill=\"none\"/>\n",
              "    <path d=\"M18.56 5.44l.94 2.06.94-2.06 2.06-.94-2.06-.94-.94-2.06-.94 2.06-2.06.94zm-11 1L8.5 8.5l.94-2.06 2.06-.94-2.06-.94L8.5 2.5l-.94 2.06-2.06.94zm10 10l.94 2.06.94-2.06 2.06-.94-2.06-.94-.94-2.06-.94 2.06-2.06.94z\"/><path d=\"M17.41 7.96l-1.37-1.37c-.4-.4-.92-.59-1.43-.59-.52 0-1.04.2-1.43.59L10.3 9.45l-7.72 7.72c-.78.78-.78 2.05 0 2.83L4 21.41c.39.39.9.59 1.41.59.51 0 1.02-.2 1.41-.59l7.78-7.78 2.81-2.81c.8-.78.8-2.07 0-2.86zM5.41 20L4 18.59l7.72-7.72 1.47 1.35L5.41 20z\"/>\n",
              "  </svg>\n",
              "      </button>\n",
              "      \n",
              "  <style>\n",
              "    .colab-df-container {\n",
              "      display:flex;\n",
              "      flex-wrap:wrap;\n",
              "      gap: 12px;\n",
              "    }\n",
              "\n",
              "    .colab-df-convert {\n",
              "      background-color: #E8F0FE;\n",
              "      border: none;\n",
              "      border-radius: 50%;\n",
              "      cursor: pointer;\n",
              "      display: none;\n",
              "      fill: #1967D2;\n",
              "      height: 32px;\n",
              "      padding: 0 0 0 0;\n",
              "      width: 32px;\n",
              "    }\n",
              "\n",
              "    .colab-df-convert:hover {\n",
              "      background-color: #E2EBFA;\n",
              "      box-shadow: 0px 1px 2px rgba(60, 64, 67, 0.3), 0px 1px 3px 1px rgba(60, 64, 67, 0.15);\n",
              "      fill: #174EA6;\n",
              "    }\n",
              "\n",
              "    [theme=dark] .colab-df-convert {\n",
              "      background-color: #3B4455;\n",
              "      fill: #D2E3FC;\n",
              "    }\n",
              "\n",
              "    [theme=dark] .colab-df-convert:hover {\n",
              "      background-color: #434B5C;\n",
              "      box-shadow: 0px 1px 3px 1px rgba(0, 0, 0, 0.15);\n",
              "      filter: drop-shadow(0px 1px 2px rgba(0, 0, 0, 0.3));\n",
              "      fill: #FFFFFF;\n",
              "    }\n",
              "  </style>\n",
              "\n",
              "      <script>\n",
              "        const buttonEl =\n",
              "          document.querySelector('#df-77a0e3ba-fad9-4876-81da-796159b61d27 button.colab-df-convert');\n",
              "        buttonEl.style.display =\n",
              "          google.colab.kernel.accessAllowed ? 'block' : 'none';\n",
              "\n",
              "        async function convertToInteractive(key) {\n",
              "          const element = document.querySelector('#df-77a0e3ba-fad9-4876-81da-796159b61d27');\n",
              "          const dataTable =\n",
              "            await google.colab.kernel.invokeFunction('convertToInteractive',\n",
              "                                                     [key], {});\n",
              "          if (!dataTable) return;\n",
              "\n",
              "          const docLinkHtml = 'Like what you see? Visit the ' +\n",
              "            '<a target=\"_blank\" href=https://colab.research.google.com/notebooks/data_table.ipynb>data table notebook</a>'\n",
              "            + ' to learn more about interactive tables.';\n",
              "          element.innerHTML = '';\n",
              "          dataTable['output_type'] = 'display_data';\n",
              "          await google.colab.output.renderOutput(dataTable, element);\n",
              "          const docLink = document.createElement('div');\n",
              "          docLink.innerHTML = docLinkHtml;\n",
              "          element.appendChild(docLink);\n",
              "        }\n",
              "      </script>\n",
              "    </div>\n",
              "  </div>\n",
              "  "
            ]
          },
          "metadata": {},
          "execution_count": 52
        }
      ]
    },
    {
      "cell_type": "code",
      "source": [
        "dataframe_of_results['Period'] = dataframe_of_results['Period'].replace([0,1,2,3], \n",
        "                                                                ['Contemporary', 'Early Modern', 'Romantic', 'Baroque'])"
      ],
      "metadata": {
        "id": "Zfclxln1DwH_"
      },
      "execution_count": 54,
      "outputs": []
    },
    {
      "cell_type": "code",
      "source": [
        "plot_by_period(dataframe_of_results)"
      ],
      "metadata": {
        "colab": {
          "base_uri": "https://localhost:8080/",
          "height": 489
        },
        "id": "GLEWHsycGz2x",
        "outputId": "81c1d3b2-7139-4c2d-b840-fdc0131d5610"
      },
      "execution_count": 81,
      "outputs": [
        {
          "output_type": "stream",
          "name": "stderr",
          "text": [
            "/usr/local/lib/python3.8/dist-packages/seaborn/categorical.py:441: MatplotlibDeprecationWarning: Setting whis to 'range' is deprecated since 3.2 and support for it will be removed two minor releases later; set it to [0, 100] to achieve the same effect.\n",
            "  artist_dict = ax.boxplot(box_data,\n",
            "/usr/local/lib/python3.8/dist-packages/seaborn/categorical.py:441: MatplotlibDeprecationWarning: Setting whis to 'range' is deprecated since 3.2 and support for it will be removed two minor releases later; set it to [0, 100] to achieve the same effect.\n",
            "  artist_dict = ax.boxplot(box_data,\n",
            "/usr/local/lib/python3.8/dist-packages/seaborn/categorical.py:441: MatplotlibDeprecationWarning: Setting whis to 'range' is deprecated since 3.2 and support for it will be removed two minor releases later; set it to [0, 100] to achieve the same effect.\n",
            "  artist_dict = ax.boxplot(box_data,\n",
            "/usr/local/lib/python3.8/dist-packages/seaborn/categorical.py:441: MatplotlibDeprecationWarning: Setting whis to 'range' is deprecated since 3.2 and support for it will be removed two minor releases later; set it to [0, 100] to achieve the same effect.\n",
            "  artist_dict = ax.boxplot(box_data,\n"
          ]
        },
        {
          "output_type": "display_data",
          "data": {
            "text/plain": [
              "<Figure size 432x288 with 1 Axes>"
            ],
            "image/png": "[encoded data removed]"
          },
          "metadata": {
            "needs_background": "light"
          }
        }
      ]
    }
  ]
}
