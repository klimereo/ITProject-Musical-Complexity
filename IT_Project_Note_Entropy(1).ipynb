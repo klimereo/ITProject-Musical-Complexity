{
  "nbformat": 4,
  "nbformat_minor": 0,
  "metadata": {
    "colab": {
      "provenance": [],
      "collapsed_sections": [
        "A37_PkrOVuyV",
        "9Uy33_xcrsVi",
        "DoI6UDP505Mu",
        "jH_7SygJ4C83",
        "eBcS-uXT75T2",
        "uXNZY8f1HMe1"
      ]
    },
    "kernelspec": {
      "name": "python3",
      "display_name": "Python 3"
    },
    "language_info": {
      "name": "python"
    }
  },
  "cells": [
    {
      "cell_type": "markdown",
      "source": [
        "# Installing & Importing Libraries"
      ],
      "metadata": {
        "id": "34PwRwPBWIdw"
      }
    },
    {
      "cell_type": "code",
      "execution_count": null,
      "metadata": {
        "id": "yJALvROzieh1",
        "colab": {
          "base_uri": "https://localhost:8080/"
        },
        "outputId": "295add66-10a3-4f65-813f-716965344f56"
      },
      "outputs": [
        {
          "output_type": "stream",
          "name": "stdout",
          "text": [
            "Looking in indexes: https://pypi.org/simple, https://us-python.pkg.dev/colab-wheels/public/simple/\n",
            "Collecting pyitlib\n",
            "  Downloading pyitlib-0.2.2.tar.gz (27 kB)\n",
            "  Preparing metadata (setup.py) ... \u001b[?25l\u001b[?25hdone\n",
            "Requirement already satisfied: pandas>=0.20.2numpy>=1.9.2 in /usr/local/lib/python3.8/dist-packages (from pyitlib) (1.3.5)\n",
            "Requirement already satisfied: scikit-learn>=0.16.0 in /usr/local/lib/python3.8/dist-packages (from pyitlib) (1.0.2)\n",
            "Requirement already satisfied: scipy>=1.0.1 in /usr/local/lib/python3.8/dist-packages (from pyitlib) (1.7.3)\n",
            "Requirement already satisfied: future>=0.16.0 in /usr/local/lib/python3.8/dist-packages (from pyitlib) (0.16.0)\n",
            "Requirement already satisfied: pytz>=2017.3 in /usr/local/lib/python3.8/dist-packages (from pandas>=0.20.2numpy>=1.9.2->pyitlib) (2022.7)\n",
            "Requirement already satisfied: numpy>=1.17.3 in /usr/local/lib/python3.8/dist-packages (from pandas>=0.20.2numpy>=1.9.2->pyitlib) (1.21.6)\n",
            "Requirement already satisfied: python-dateutil>=2.7.3 in /usr/local/lib/python3.8/dist-packages (from pandas>=0.20.2numpy>=1.9.2->pyitlib) (2.8.2)\n",
            "Requirement already satisfied: threadpoolctl>=2.0.0 in /usr/local/lib/python3.8/dist-packages (from scikit-learn>=0.16.0->pyitlib) (3.1.0)\n",
            "Requirement already satisfied: joblib>=0.11 in /usr/local/lib/python3.8/dist-packages (from scikit-learn>=0.16.0->pyitlib) (1.2.0)\n",
            "Requirement already satisfied: six>=1.5 in /usr/local/lib/python3.8/dist-packages (from python-dateutil>=2.7.3->pandas>=0.20.2numpy>=1.9.2->pyitlib) (1.15.0)\n",
            "Building wheels for collected packages: pyitlib\n",
            "  Building wheel for pyitlib (setup.py) ... \u001b[?25l\u001b[?25hdone\n",
            "  Created wheel for pyitlib: filename=pyitlib-0.2.2-py3-none-any.whl size=28501 sha256=c5b1bde1d7067b3a359cd3a7f8b0994f762aa3c0748e9e05540715c95a0fd796\n",
            "  Stored in directory: /root/.cache/pip/wheels/ea/1d/5e/a1ed049f60c80286f937f1ab1d3574b49d79afc93d51247104\n",
            "Successfully built pyitlib\n",
            "Installing collected packages: pyitlib\n",
            "Successfully installed pyitlib-0.2.2\n",
            "Looking in indexes: https://pypi.org/simple, https://us-python.pkg.dev/colab-wheels/public/simple/\n",
            "Requirement already satisfied: mido in /usr/local/lib/python3.8/dist-packages (1.2.10)\n"
          ]
        }
      ],
      "source": [
        "!pip install pyitlib\n",
        "!pip install mido"
      ]
    },
    {
      "cell_type": "code",
      "source": [
        "import numpy as np\n",
        "import math\n",
        "from collections import Counter\n",
        "import mido\n",
        "import string\n",
        "from pyitlib import discrete_random_variable as drv\n",
        "import music21"
      ],
      "metadata": {
        "id": "PZnuxE5wjI3U"
      },
      "execution_count": null,
      "outputs": []
    },
    {
      "cell_type": "markdown",
      "source": [
        "# Basic Shannon Entropy Functions"
      ],
      "metadata": {
        "id": "KZtmyyffqpFY"
      }
    },
    {
      "cell_type": "markdown",
      "source": [
        "## Shannon Entropy and Probability Distribution Functions\n"
      ],
      "metadata": {
        "id": "A37_PkrOVuyV"
      }
    },
    {
      "cell_type": "code",
      "source": [
        "def pmf(arr):\n",
        "  # Use the Counter method to count the frequency of each element\n",
        "  element_freq = Counter(arr)\n",
        "\n",
        "  # Calculate the probability mass function\n",
        "  pmf = {}\n",
        "  for elem, freq in element_freq.items():\n",
        "    pmf[elem] = freq / len(arr)\n",
        "\n",
        "  return pmf"
      ],
      "metadata": {
        "id": "TehBLKleklPi"
      },
      "execution_count": null,
      "outputs": []
    },
    {
      "cell_type": "code",
      "source": [
        "def dict_vals_to_array(dictionary):\n",
        "  # Initialize an empty NumPy array\n",
        "  arr = np.array([])\n",
        "\n",
        "  # Iterate over the values in the dictionary\n",
        "  for value in dictionary.values():\n",
        "    # Append the value to the array\n",
        "    arr = np.append(arr, value)\n",
        "\n",
        "  return arr"
      ],
      "metadata": {
        "id": "r_kFshwJvzYy"
      },
      "execution_count": null,
      "outputs": []
    },
    {
      "cell_type": "code",
      "source": [
        "def shannon_entropy(array_with_probabilities):\n",
        "  entropies = []\n",
        "  for key, value in array_with_probabilities.items():\n",
        "    logged = value * math.log2(value)\n",
        "    entropies.append(logged)\n",
        "\n",
        "  source_entropy = - sum(entropies)\n",
        "  return source_entropy"
      ],
      "metadata": {
        "id": "ACDY6U7fmfOk"
      },
      "execution_count": null,
      "outputs": []
    },
    {
      "cell_type": "markdown",
      "source": [
        "## Using PyItlib"
      ],
      "metadata": {
        "id": "9Uy33_xcrsVi"
      }
    },
    {
      "cell_type": "code",
      "source": [
        "def extract_notes(midi_file):\n",
        "  # Load the MIDI file into a music21 stream\n",
        "  stream = music21.converter.parse(midi_file)\n",
        "\n",
        "  # Extract the notes and formulaic chords from the stream\n",
        "  notes = []\n",
        "  for element in stream.recurse():\n",
        "    # If the element is a note or a chord, add it to the list\n",
        "    if isinstance(element, music21.note.Note):\n",
        "      # Extract the pitch and rhythm information for the note\n",
        "      pitch = str(element.pitch)\n",
        "      rhythm = element.duration.type\n",
        "      notes.append(pitch + '_' + str(rhythm))\n",
        "    elif isinstance(element, music21.chord.Chord):\n",
        "      # Extract the pitch and rhythm information for the chord\n",
        "      pitches = '.'.join(str(n) for n in element.normalOrder)\n",
        "      rhythm = element.duration.type\n",
        "      notes.append(pitches + '_' + str(rhythm))\n",
        "\n",
        "  return notes"
      ],
      "metadata": {
        "id": "Yk9ykiJcyU_J"
      },
      "execution_count": null,
      "outputs": []
    },
    {
      "cell_type": "code",
      "source": [
        "def entropy_pipeline(filename):\n",
        "  piece_notes = extract_notes(filename)\n",
        "  piece_probs = dict_vals_to_array(pmf(piece_notes))\n",
        "  entropyOfPiece = drv.entropy_pmf(piece_probs)\n",
        "\n",
        "  return entropyOfPiece"
      ],
      "metadata": {
        "id": "5qzZzbf27de_"
      },
      "execution_count": null,
      "outputs": []
    },
    {
      "cell_type": "markdown",
      "source": [
        "# Calculating Shannon Entropy over Notes"
      ],
      "metadata": {
        "id": "YHKrZbbg01kr"
      }
    },
    {
      "cell_type": "markdown",
      "source": [
        "## Baroque Classical"
      ],
      "metadata": {
        "id": "DoI6UDP505Mu"
      }
    },
    {
      "cell_type": "code",
      "source": [
        "bach_847_shentropy = entropy_pipeline('bach_847.mid')\n",
        "print(bach_847_shentropy)"
      ],
      "metadata": {
        "colab": {
          "base_uri": "https://localhost:8080/"
        },
        "id": "uGTZnHHsGo55",
        "outputId": "7f351d09-15fa-48e3-dd16-bc788e85f392"
      },
      "execution_count": null,
      "outputs": [
        {
          "output_type": "stream",
          "name": "stdout",
          "text": [
            "5.506950023584544\n"
          ]
        }
      ]
    },
    {
      "cell_type": "code",
      "source": [
        "bach_goldberg1_shentropy = entropy_pipeline('goldberg_variation1.mid')\n",
        "print(bach_goldberg1_shentropy)"
      ],
      "metadata": {
        "colab": {
          "base_uri": "https://localhost:8080/"
        },
        "id": "OetmXjCb1-P-",
        "outputId": "73591019-fce5-4a9d-a228-3e0106ebb8dc"
      },
      "execution_count": null,
      "outputs": [
        {
          "output_type": "stream",
          "name": "stdout",
          "text": [
            "5.620435538632966\n"
          ]
        }
      ]
    },
    {
      "cell_type": "code",
      "source": [
        "haydn_sonata50_shentropy = entropy_pipeline('haydn_sonata50.mid')\n",
        "print(haydn_sonata50_shentropy)"
      ],
      "metadata": {
        "colab": {
          "base_uri": "https://localhost:8080/"
        },
        "id": "kMVZkMi72Msz",
        "outputId": "fccce443-75f9-4c47-f7a3-01efbb3a1e36"
      },
      "execution_count": null,
      "outputs": [
        {
          "output_type": "stream",
          "name": "stdout",
          "text": [
            "6.328727299804061\n"
          ]
        }
      ]
    },
    {
      "cell_type": "code",
      "source": [
        "mozart_allaturca_shentropy = entropy_pipeline('mz_331_3.mid')\n",
        "print(mozart_allaturca_shentropy)"
      ],
      "metadata": {
        "colab": {
          "base_uri": "https://localhost:8080/"
        },
        "id": "ZqnMpOeZ2Wks",
        "outputId": "e37db3f1-518c-452b-a36b-4723fd66634e"
      },
      "execution_count": null,
      "outputs": [
        {
          "output_type": "stream",
          "name": "stdout",
          "text": [
            "5.998407748300801\n"
          ]
        }
      ]
    },
    {
      "cell_type": "code",
      "source": [
        "baroque_classical_shentropies = {'Bach 847': bach_847_shentropy, \n",
        "                                 'Bach Goldberg 1': bach_goldberg1_shentropy,\n",
        "                                 'Haydn Sonata 50': haydn_sonata50_shentropy, \n",
        "                                 'Mozart Alla Turca': mozart_allaturca_shentropy}"
      ],
      "metadata": {
        "id": "LlwPlUGn2jYP"
      },
      "execution_count": null,
      "outputs": []
    },
    {
      "cell_type": "code",
      "source": [
        "import json\n",
        "\n",
        "with open(\"barok_shentropy.json\", \"w\") as outfile:\n",
        "    json.dump(baroque_classical_shentropies, outfile)"
      ],
      "metadata": {
        "id": "CSwVGKVYVRwP"
      },
      "execution_count": null,
      "outputs": []
    },
    {
      "cell_type": "markdown",
      "source": [
        "## Romantic"
      ],
      "metadata": {
        "id": "jH_7SygJ4C83"
      }
    },
    {
      "cell_type": "code",
      "source": [
        "chopin_waltzCsharp_shentropy = entropy_pipeline('Waltz-in-C-Sharp-Minor-Opus-64-Nr-2.mid')\n",
        "print(chopin_waltzCsharp_shentropy)"
      ],
      "metadata": {
        "colab": {
          "base_uri": "https://localhost:8080/"
        },
        "id": "FpaZGAhk4GUv",
        "outputId": "189657b0-93cb-4560-b137-a0dc29c8d330"
      },
      "execution_count": null,
      "outputs": [
        {
          "output_type": "stream",
          "name": "stdout",
          "text": [
            "7.432077849211035\n"
          ]
        }
      ]
    },
    {
      "cell_type": "code",
      "source": [
        "lizst_liebestraum_shentropy = entropy_pipeline('liz_liebestraum.mid')\n",
        "print(lizst_liebestraum_shentropy)"
      ],
      "metadata": {
        "colab": {
          "base_uri": "https://localhost:8080/"
        },
        "id": "KOiSgrom4Z8V",
        "outputId": "edfab8b8-33e7-486d-eb7b-e35b1c30fe6f"
      },
      "execution_count": null,
      "outputs": [
        {
          "output_type": "stream",
          "name": "stdout",
          "text": [
            "6.780336426513806\n"
          ]
        }
      ]
    },
    {
      "cell_type": "code",
      "source": [
        "schubert_impromptu2_shentropy = entropy_pipeline('schubert_impromptu2.mid')\n",
        "print(schubert_impromptu2_shentropy)"
      ],
      "metadata": {
        "colab": {
          "base_uri": "https://localhost:8080/"
        },
        "id": "89rCqXyu4mgq",
        "outputId": "2189ca00-260b-481a-efd7-a9b3424c7083"
      },
      "execution_count": null,
      "outputs": [
        {
          "output_type": "stream",
          "name": "stdout",
          "text": [
            "6.617533694253459\n"
          ]
        }
      ]
    },
    {
      "cell_type": "code",
      "source": [
        "tchaikovsky_june_shentropy = entropy_pipeline(\"tchaikovsky_june.mid\")\n",
        "print(tchaikovsky_june_shentropy)"
      ],
      "metadata": {
        "colab": {
          "base_uri": "https://localhost:8080/"
        },
        "id": "RE7z-mtq5OUe",
        "outputId": "2ab0405c-026b-453a-f7f4-c2f53afec676"
      },
      "execution_count": null,
      "outputs": [
        {
          "output_type": "stream",
          "name": "stdout",
          "text": [
            "6.733572845656736\n"
          ]
        }
      ]
    },
    {
      "cell_type": "code",
      "source": [
        "romantic_shentropies = {'Chopin Waltz': chopin_waltzCsharp_shentropy,\n",
        "                        'Lizst Liebestraum': lizst_liebestraum_shentropy,\n",
        "                        'Schubert Impromptu': schubert_impromptu2_shentropy,\n",
        "                        'Tchaikovsky June': tchaikovsky_june_shentropy}"
      ],
      "metadata": {
        "id": "qCctklOq5h3k"
      },
      "execution_count": null,
      "outputs": []
    },
    {
      "cell_type": "code",
      "source": [
        "with open(\"/content/romantik_shentropy.json\", \"w\") as outfile1:\n",
        "    json.dump(romantic_shentropies, outfile1)"
      ],
      "metadata": {
        "id": "ihI2sntMWK_O"
      },
      "execution_count": null,
      "outputs": []
    },
    {
      "cell_type": "markdown",
      "source": [
        "## Early-Modern / Late Romantic"
      ],
      "metadata": {
        "id": "eBcS-uXT75T2"
      }
    },
    {
      "cell_type": "code",
      "source": [
        "scriabin_verslaflamme_shentropy = entropy_pipeline(\"vers_la_flamme_72_(c)lefeldt.mid\")\n",
        "print(scriabin_verslaflamme_shentropy)"
      ],
      "metadata": {
        "colab": {
          "base_uri": "https://localhost:8080/"
        },
        "id": "wuJRLTZy7796",
        "outputId": "47f3c7f6-9baf-4a5a-87d9-1ffed3667638"
      },
      "execution_count": null,
      "outputs": [
        {
          "output_type": "stream",
          "name": "stdout",
          "text": [
            "6.808891455845934\n"
          ]
        }
      ]
    },
    {
      "cell_type": "code",
      "source": [
        "debussy_prelude8_shentropy = entropy_pipeline(\"debussyprelude.mid\")\n",
        "print(debussy_prelude8_shentropy)"
      ],
      "metadata": {
        "colab": {
          "base_uri": "https://localhost:8080/"
        },
        "id": "vegWVgoP-LDo",
        "outputId": "08422f3a-7829-445b-e577-1e28b5c68bd1"
      },
      "execution_count": null,
      "outputs": [
        {
          "output_type": "stream",
          "name": "stdout",
          "text": [
            "6.664076493493506\n"
          ]
        }
      ]
    },
    {
      "cell_type": "code",
      "source": [
        "schoenberg_op11mvt3_shentropy = entropy_pipeline(\"schoenberg_drei_klavierstucke_11_3_(c)simonetto.mid\")\n",
        "print(schoenberg_op11mvt3_shentropy)"
      ],
      "metadata": {
        "colab": {
          "base_uri": "https://localhost:8080/"
        },
        "id": "DAchcy2d-oEQ",
        "outputId": "3627ed38-7c23-422c-fa23-eaf7747862a7"
      },
      "execution_count": null,
      "outputs": [
        {
          "output_type": "stream",
          "name": "stdout",
          "text": [
            "8.058324461758446\n"
          ]
        }
      ]
    },
    {
      "cell_type": "code",
      "source": [
        "bartok_sonata1mvt1_shentropy = entropy_pipeline(\"bartok_piano_sonata_1_cunknown.mid\")\n",
        "print(bartok_sonata1mvt1_shentropy)"
      ],
      "metadata": {
        "colab": {
          "base_uri": "https://localhost:8080/"
        },
        "id": "SNlfmkHBA4wC",
        "outputId": "c75b9d5f-80d4-444d-c277-c1d82c9b5ec5"
      },
      "execution_count": null,
      "outputs": [
        {
          "output_type": "stream",
          "name": "stdout",
          "text": [
            "7.298191604966489\n"
          ]
        }
      ]
    },
    {
      "cell_type": "code",
      "source": [
        "earlymodern_shentropies = {'Scriabin Vers La Flamme': scriabin_verslaflamme_shentropy,\n",
        "                           'Debussy Prelude 8:' : debussy_prelude8_shentropy,\n",
        "                           'Schoenberg op11mvt3': schoenberg_op11mvt3_shentropy,\n",
        "                           'Bartok Sonata 1 Mvt1': bartok_sonata1mvt1_shentropy}"
      ],
      "metadata": {
        "id": "cmFSKO6dCinN"
      },
      "execution_count": null,
      "outputs": []
    },
    {
      "cell_type": "code",
      "source": [
        "with open(\"/content/earlymodern_shentropy.json\", \"w\") as outfile1:\n",
        "    json.dump(earlymodern_shentropies, outfile1)"
      ],
      "metadata": {
        "id": "kzLZCmGvWtk_"
      },
      "execution_count": null,
      "outputs": []
    },
    {
      "cell_type": "markdown",
      "source": [
        "## Contemporary"
      ],
      "metadata": {
        "id": "uXNZY8f1HMe1"
      }
    },
    {
      "cell_type": "code",
      "source": [
        "messiaen_lesanges_shentropy = entropy_pipeline(\"messiaen_la_nativite_du_seigneur_6_(c)mccoy.mid\")\n",
        "print(messiaen_lesanges_shentropy)"
      ],
      "metadata": {
        "colab": {
          "base_uri": "https://localhost:8080/"
        },
        "id": "6-KDt6huHO8O",
        "outputId": "44232628-61bc-4951-c39d-857cdf340957"
      },
      "execution_count": null,
      "outputs": [
        {
          "output_type": "stream",
          "name": "stdout",
          "text": [
            "6.46667916289563\n"
          ]
        }
      ]
    },
    {
      "cell_type": "code",
      "source": [
        "boulez_premieresonata_shentropy = entropy_pipeline(\"BoulezPREMIERE_SONATE1946.mid\")\n",
        "print(boulez_premieresonata_shentropy)"
      ],
      "metadata": {
        "colab": {
          "base_uri": "https://localhost:8080/"
        },
        "id": "xpFlt81WMypp",
        "outputId": "68de04ad-7105-45e3-bd6f-b452ea9f95ee"
      },
      "execution_count": null,
      "outputs": [
        {
          "output_type": "stream",
          "name": "stdout",
          "text": [
            "7.684505477412431\n"
          ]
        }
      ]
    },
    {
      "cell_type": "code",
      "source": [
        "ligeti_disordre_shentropy = entropy_pipeline(\"tude_1_Dsordre__Gyrgy_Ligeti_with_annotationcolor_coding.mid\")\n",
        "print(ligeti_disordre_shentropy)"
      ],
      "metadata": {
        "colab": {
          "base_uri": "https://localhost:8080/"
        },
        "id": "-fT8ESxiPwIZ",
        "outputId": "86ca7b54-0819-4432-90d3-a39323f7a687"
      },
      "execution_count": null,
      "outputs": [
        {
          "output_type": "stream",
          "name": "stdout",
          "text": [
            "6.627844023808542\n"
          ]
        }
      ]
    },
    {
      "cell_type": "code",
      "source": [
        "xenakis_evryali_shentropy = entropy_pipeline('evryalixx.mid')\n",
        "print(xenakis_evryali_shentropy)"
      ],
      "metadata": {
        "colab": {
          "base_uri": "https://localhost:8080/"
        },
        "id": "cuYaUFTFR_Pg",
        "outputId": "2b197a9c-e068-44fe-e8a0-315d7487e445"
      },
      "execution_count": null,
      "outputs": [
        {
          "output_type": "stream",
          "name": "stdout",
          "text": [
            "9.954933266409508\n"
          ]
        }
      ]
    },
    {
      "cell_type": "code",
      "source": [
        "contemporary_shentropies = {'Messiaen Les Anges': messiaen_lesanges_shentropy,\n",
        "                            'Boulez Premier Sonata': boulez_premieresonata_shentropy,\n",
        "                            'Xenakis Evryali': xenakis_evryali_shentropy,\n",
        "                            'Ligeti Disordre' : ligeti_disordre_shentropy}"
      ],
      "metadata": {
        "id": "8Cx3NvU5Qnmi"
      },
      "execution_count": null,
      "outputs": []
    },
    {
      "cell_type": "code",
      "source": [
        "with open(\"/content/contemporary_shentropy.json\", \"w\") as outfile1:\n",
        "    json.dump(contemporary_shentropies, outfile1)"
      ],
      "metadata": {
        "id": "DU63SkLGXFfq"
      },
      "execution_count": null,
      "outputs": []
    }
  ]
}