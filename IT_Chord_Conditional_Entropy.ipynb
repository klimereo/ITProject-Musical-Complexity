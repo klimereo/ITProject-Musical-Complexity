{
  "nbformat": 4,
  "nbformat_minor": 0,
  "metadata": {
    "colab": {
      "provenance": [],
      "authorship_tag": "ABX9TyP1veoZY8uSYBjuTGvBoOVp",
      "include_colab_link": true
    },
    "kernelspec": {
      "name": "python3",
      "display_name": "Python 3"
    },
    "language_info": {
      "name": "python"
    }
  },
  "cells": [
    {
      "cell_type": "markdown",
      "metadata": {
        "id": "view-in-github",
        "colab_type": "text"
      },
      "source": [
        "<a href=\"https://colab.research.google.com/github/klimereo/it-project/blob/main/IT_Chord_Conditional_Entropy.ipynb\" target=\"_parent\"><img src=\"https://colab.research.google.com/assets/colab-badge.svg\" alt=\"Open In Colab\"/></a>"
      ]
    },
    {
      "cell_type": "markdown",
      "source": [
        "# Importing Functions and Files\n",
        "\n"
      ],
      "metadata": {
        "id": "YrGp9n-BLEIm"
      }
    },
    {
      "cell_type": "markdown",
      "source": [
        "## Importing Libraries"
      ],
      "metadata": {
        "id": "1TRm2bxxL0WK"
      }
    },
    {
      "cell_type": "code",
      "execution_count": null,
      "metadata": {
        "id": "_6ttkQSMK647"
      },
      "outputs": [],
      "source": [
        "!pip install pyitlib"
      ]
    },
    {
      "cell_type": "code",
      "source": [
        "import numpy as np\n",
        "from pyitlib import discrete_random_variable as drv\n",
        "import pandas as pd\n",
        "from collections import Counter\n",
        "from collections import defaultdict"
      ],
      "metadata": {
        "id": "xYNeG8C0LM2h"
      },
      "execution_count": 74,
      "outputs": []
    },
    {
      "cell_type": "markdown",
      "source": [
        "## Importing Files"
      ],
      "metadata": {
        "id": "qP9lIjGBL4mS"
      }
    },
    {
      "cell_type": "markdown",
      "source": [
        "### Baroque / Classical\n",
        "\n"
      ],
      "metadata": {
        "id": "bFsxoNW4NI06"
      }
    },
    {
      "cell_type": "code",
      "source": [
        "df_bach847 = pd.read_csv('/content/bach_847_rawmatrix.csv', sep='\\t')\n",
        "df_bachgoldberg = pd.read_csv ('/content/goldberg_rawmatrix.csv', sep='\\t')\n",
        "df_haydn = pd.read_csv ('/content/haydn50_rawmatrix.csv', sep='\\t')\n",
        "df_mozart = pd.read_csv('/content/mozart_turca_rawmatrix.csv', sep='\\t')"
      ],
      "metadata": {
        "id": "XvquHERZLwGP"
      },
      "execution_count": 9,
      "outputs": []
    },
    {
      "cell_type": "code",
      "source": [
        "print(df_bach847.shape)\n",
        "print(df_bachgoldberg.shape)\n",
        "print(df_haydn.shape)\n",
        "print(df_mozart.shape)"
      ],
      "metadata": {
        "colab": {
          "base_uri": "https://localhost:8080/"
        },
        "id": "KtarHFUZQUWo",
        "outputId": "503ad8c6-95ae-49c1-ab76-99b2f87f1152"
      },
      "execution_count": 10,
      "outputs": [
        {
          "output_type": "stream",
          "name": "stdout",
          "text": [
            "(88, 1134)\n",
            "(88, 1247)\n",
            "(88, 2726)\n",
            "(88, 1542)\n"
          ]
        }
      ]
    },
    {
      "cell_type": "markdown",
      "source": [
        "### Romantic\n"
      ],
      "metadata": {
        "id": "fK6t91rINjcM"
      }
    },
    {
      "cell_type": "code",
      "source": [
        "df_chopin = pd.read_csv('/content/chopinwaltz_rawmatrix.csv', sep='\\t')\n",
        "df_schubert = pd.read_csv('/content/schubertimp_rawmatrix.csv', sep='\\t')\n",
        "df_tchaikovsky = pd.read_csv('/content/tchaikovsky_rawmatrix.csv', sep='\\t')\n",
        "df_liszt = pd.read_csv('/content/liszt_rawmatrix.csv', sep='\\t')"
      ],
      "metadata": {
        "id": "YHAl_clPOcaj"
      },
      "execution_count": 11,
      "outputs": []
    },
    {
      "cell_type": "code",
      "source": [
        "print(df_chopin.shape)\n",
        "print(df_schubert.shape)\n",
        "print(df_tchaikovsky.shape)\n",
        "print(df_liszt.shape)"
      ],
      "metadata": {
        "colab": {
          "base_uri": "https://localhost:8080/"
        },
        "id": "6baV-mDWQOR1",
        "outputId": "f731e9a3-e992-43be-a3df-4e8813811170"
      },
      "execution_count": 12,
      "outputs": [
        {
          "output_type": "stream",
          "name": "stdout",
          "text": [
            "(88, 1931)\n",
            "(88, 2263)\n",
            "(88, 1826)\n",
            "(88, 1877)\n"
          ]
        }
      ]
    },
    {
      "cell_type": "markdown",
      "source": [
        "### Early Modern"
      ],
      "metadata": {
        "id": "1Bm-YYthOyYF"
      }
    },
    {
      "cell_type": "code",
      "source": [
        "df_schoenberg = pd.read_csv('/content/schoenberg_rawmatrix.csv', sep='\\t')\n",
        "df_bartok = pd.read_csv ('/content/bartoksonata_rawmatrix.csv', sep='\\t')\n",
        "df_debussy = pd.read_csv('/content/debussyprelude_rawmatrix.csv', sep='\\t')\n",
        "df_scriabin = pd.read_csv('/content/scriabin_vers_rawmatrix.csv', sep='\\t')"
      ],
      "metadata": {
        "id": "UDFN8DqsO0PL"
      },
      "execution_count": 13,
      "outputs": []
    },
    {
      "cell_type": "code",
      "source": [
        "print(df_schoenberg.shape)\n",
        "print(df_bartok.shape)\n",
        "print(df_debussy.shape)\n",
        "print(df_scriabin.shape)"
      ],
      "metadata": {
        "colab": {
          "base_uri": "https://localhost:8080/"
        },
        "id": "KWoPFdtvP-rK",
        "outputId": "a63a38c1-5216-45c9-d206-d772de9ccc51"
      },
      "execution_count": 14,
      "outputs": [
        {
          "output_type": "stream",
          "name": "stdout",
          "text": [
            "(88, 1116)\n",
            "(88, 1971)\n",
            "(88, 1379)\n",
            "(88, 2403)\n"
          ]
        }
      ]
    },
    {
      "cell_type": "markdown",
      "source": [
        "### Contemporary"
      ],
      "metadata": {
        "id": "sMwjfL57PpZA"
      }
    },
    {
      "cell_type": "code",
      "source": [
        "df_xenakis = pd.read_csv('/content/xenakis_evyrali_rawmatrix.csv', sep='\\t')\n",
        "df_messiaen = pd.read_csv('/content/messiaen_lesagnes_rawmatrix.csv', sep='\\t')\n",
        "df_ligeti = pd.read_csv('/content/ligeti_disordre_rawmatrix.csv', sep='\\t')\n",
        "df_boulez = pd.read_csv('/content/boulez_sonata_rawmatrix.csv', sep='\\t')"
      ],
      "metadata": {
        "id": "3S2-WUIMPq8w"
      },
      "execution_count": 15,
      "outputs": []
    },
    {
      "cell_type": "code",
      "source": [
        "print(df_xenakis.shape)\n",
        "print(df_messiaen.shape)\n",
        "print(df_ligeti.shape)\n",
        "print(df_boulez.shape)"
      ],
      "metadata": {
        "colab": {
          "base_uri": "https://localhost:8080/"
        },
        "id": "D2Jn1eWXQH_Q",
        "outputId": "5409f2c5-2f58-4243-ea9b-829cde000c16"
      },
      "execution_count": 16,
      "outputs": [
        {
          "output_type": "stream",
          "name": "stdout",
          "text": [
            "(88, 4726)\n",
            "(88, 1431)\n",
            "(88, 1014)\n",
            "(88, 1242)\n"
          ]
        }
      ]
    },
    {
      "cell_type": "markdown",
      "source": [
        "# Entropy over probability distribution of distinct vertical elements"
      ],
      "metadata": {
        "id": "sUg1AoFCQ-Xz"
      }
    },
    {
      "cell_type": "markdown",
      "source": [
        "## Functions\n",
        "\n",
        "1. Extract chords from each column\n",
        "2. Create probability distribution of types of chords\n",
        "3. Calculate entropy"
      ],
      "metadata": {
        "id": "lXlJue2ShrD9"
      }
    },
    {
      "cell_type": "code",
      "source": [
        "def extract_nonzero_indices_v2(df):\n",
        "    # Initialize an empty list to store the sets of non-zero indices\n",
        "    nonzero_indices = []\n",
        "    \n",
        "    # Iterate over columns\n",
        "    for col in df.columns:\n",
        "        # Extract non-zero indices for current column\n",
        "        nonzero_indices_set = set(df[col][df[col] != 0].index)\n",
        "        if len(nonzero_indices_set) == 0:\n",
        "            nonzero_indices_set = {0,0,0}\n",
        "        elif len(nonzero_indices_set) > 70:\n",
        "            continue\n",
        "        \n",
        "        # Append the set of non-zero indices to the list\n",
        "        nonzero_indices.append(nonzero_indices_set)\n",
        "    \n",
        "    return nonzero_indices"
      ],
      "metadata": {
        "id": "HKQe3NmLRDaU"
      },
      "execution_count": 24,
      "outputs": []
    },
    {
      "cell_type": "code",
      "source": [
        "def probability_distribution_of_types(sets_list):\n",
        "    # Convert the sets to strings\n",
        "    sets_list = [str(s) for s in sets_list]\n",
        "    # Count the occurrences of each set in the input list\n",
        "    set_counts = Counter(sets_list)\n",
        "    \n",
        "    # Calculate the total number of sets\n",
        "    total_sets = len(sets_list)\n",
        "    \n",
        "    # Initialize an empty dictionary to store the probability distribution\n",
        "    probability_distribution = {}\n",
        "    \n",
        "    # Iterate over the set counts\n",
        "    for set_item, count in set_counts.items():\n",
        "        # Calculate the probability of the set\n",
        "        probability = count / total_sets\n",
        "        \n",
        "        # Add the set and its probability to the dictionary\n",
        "        probability_distribution[set_item] = probability\n",
        "    \n",
        "    return probability_distribution"
      ],
      "metadata": {
        "id": "BSzmIdVncX3l"
      },
      "execution_count": 30,
      "outputs": []
    },
    {
      "cell_type": "code",
      "source": [
        "def dict_vals_to_array(dictionary):\n",
        "  # Initialize an empty NumPy array\n",
        "  arr = np.array([])\n",
        "\n",
        "  # Iterate over the values in the dictionary\n",
        "  for value in dictionary.values():\n",
        "    # Append the value to the array\n",
        "    arr = np.append(arr, value)\n",
        "\n",
        "  return arr"
      ],
      "metadata": {
        "id": "A1NyG5V2grCn"
      },
      "execution_count": 43,
      "outputs": []
    },
    {
      "cell_type": "code",
      "source": [
        "def entropy_pipeline(dataframe):\n",
        "  chords = extract_nonzero_indices_v2(dataframe)\n",
        "  chords_probs = probability_distribution_of_types(chords)\n",
        "  array_probabilities = dict_vals_to_array(chords_probs)\n",
        "  entropyOfPiece = drv.entropy_pmf(array_probabilities)\n",
        "\n",
        "  return entropyOfPiece"
      ],
      "metadata": {
        "id": "NuxF-oldhNns"
      },
      "execution_count": 45,
      "outputs": []
    },
    {
      "cell_type": "markdown",
      "source": [
        "## Application to datasets"
      ],
      "metadata": {
        "id": "ZeyYIbQ0iDdi"
      }
    },
    {
      "cell_type": "markdown",
      "source": [
        "### Baroque"
      ],
      "metadata": {
        "id": "MVLpQ40xiI98"
      }
    },
    {
      "cell_type": "code",
      "source": [
        "bach847_chordtropy = entropy_pipeline(df_bach847)\n",
        "print(bach847_chordtropy)"
      ],
      "metadata": {
        "colab": {
          "base_uri": "https://localhost:8080/"
        },
        "id": "5w6qsoqbhKQg",
        "outputId": "dab00e39-51ac-45af-9635-fe53f714fb3d"
      },
      "execution_count": 47,
      "outputs": [
        {
          "output_type": "stream",
          "name": "stdout",
          "text": [
            "7.952256964919892\n"
          ]
        }
      ]
    },
    {
      "cell_type": "code",
      "source": [
        "bachgoldberg_chordtropy = entropy_pipeline(df_bachgoldberg)\n",
        "print(bachgoldberg_chordtropy)"
      ],
      "metadata": {
        "colab": {
          "base_uri": "https://localhost:8080/"
        },
        "id": "ysRa_kJhiAUn",
        "outputId": "f988d13c-8907-48d2-8776-656283f643c4"
      },
      "execution_count": 48,
      "outputs": [
        {
          "output_type": "stream",
          "name": "stdout",
          "text": [
            "7.315152599024176\n"
          ]
        }
      ]
    },
    {
      "cell_type": "code",
      "source": [
        "haydn_chordtropy = entropy_pipeline(df_haydn)\n",
        "print(haydn_chordtropy)"
      ],
      "metadata": {
        "colab": {
          "base_uri": "https://localhost:8080/"
        },
        "id": "TRF0x56Kisb3",
        "outputId": "b1d445ef-51cf-4851-b4fb-e18278b5a37a"
      },
      "execution_count": 49,
      "outputs": [
        {
          "output_type": "stream",
          "name": "stdout",
          "text": [
            "7.6342687846314545\n"
          ]
        }
      ]
    },
    {
      "cell_type": "code",
      "source": [
        "mozart_chordtropy = entropy_pipeline(df_mozart)\n",
        "print(mozart_chordtropy)"
      ],
      "metadata": {
        "colab": {
          "base_uri": "https://localhost:8080/"
        },
        "id": "kR-bFVz2jcik",
        "outputId": "c5b4263b-3828-42b3-845c-984e515e5434"
      },
      "execution_count": 50,
      "outputs": [
        {
          "output_type": "stream",
          "name": "stdout",
          "text": [
            "6.5878735346753\n"
          ]
        }
      ]
    },
    {
      "cell_type": "code",
      "source": [
        "baroque_classical_chordtropy = {'Bach 847': bach847_chordtropy, \n",
        "                                'Bach Goldberg 1': bachgoldberg_chordtropy,\n",
        "                                'Haydn Sonata 50': haydn_chordtropy, \n",
        "                                'Mozart Alla Turca': mozart_chordtropy}"
      ],
      "metadata": {
        "id": "yWAQe89UjyQo"
      },
      "execution_count": 51,
      "outputs": []
    },
    {
      "cell_type": "code",
      "source": [
        "import json\n",
        "\n",
        "with open(\"barok_chordtropy.json\", \"w\") as outfile:\n",
        "    json.dump(baroque_classical_chordtropy, outfile)"
      ],
      "metadata": {
        "id": "L-ZQLqfFkYe8"
      },
      "execution_count": 52,
      "outputs": []
    },
    {
      "cell_type": "markdown",
      "source": [
        "### Romantic"
      ],
      "metadata": {
        "id": "ZjfU8ElPkit8"
      }
    },
    {
      "cell_type": "code",
      "source": [
        "chopin_chordtropy = entropy_pipeline(df_chopin)\n",
        "print(chopin_chordtropy)"
      ],
      "metadata": {
        "colab": {
          "base_uri": "https://localhost:8080/"
        },
        "id": "R8hSNIPXkmos",
        "outputId": "e20f6a8e-73bc-4eab-f40a-ab855aab4a7b"
      },
      "execution_count": 53,
      "outputs": [
        {
          "output_type": "stream",
          "name": "stdout",
          "text": [
            "7.098127595373777\n"
          ]
        }
      ]
    },
    {
      "cell_type": "code",
      "source": [
        "schubert_chordtropy = entropy_pipeline(df_schubert)\n",
        "print(schubert_chordtropy)"
      ],
      "metadata": {
        "colab": {
          "base_uri": "https://localhost:8080/"
        },
        "id": "HBym6avKlD81",
        "outputId": "69c1f929-9daf-4ef8-9485-0169aa3bd4dd"
      },
      "execution_count": 54,
      "outputs": [
        {
          "output_type": "stream",
          "name": "stdout",
          "text": [
            "8.721652769175355\n"
          ]
        }
      ]
    },
    {
      "cell_type": "code",
      "source": [
        "tchaikovsky_chordtropy = entropy_pipeline(df_tchaikovsky)\n",
        "print(tchaikovsky_chordtropy)"
      ],
      "metadata": {
        "colab": {
          "base_uri": "https://localhost:8080/"
        },
        "id": "3vke6VpdlT0P",
        "outputId": "222ac777-41f0-4f09-948e-e04522b35c49"
      },
      "execution_count": 55,
      "outputs": [
        {
          "output_type": "stream",
          "name": "stdout",
          "text": [
            "7.920282880730454\n"
          ]
        }
      ]
    },
    {
      "cell_type": "code",
      "source": [
        "liszt_chordtropy = entropy_pipeline(df_liszt)\n",
        "print(liszt_chordtropy)"
      ],
      "metadata": {
        "colab": {
          "base_uri": "https://localhost:8080/"
        },
        "id": "CdUFCWqAlzTq",
        "outputId": "e06490e8-840d-4435-b14f-590725423ce4"
      },
      "execution_count": 56,
      "outputs": [
        {
          "output_type": "stream",
          "name": "stdout",
          "text": [
            "8.57324764836548\n"
          ]
        }
      ]
    },
    {
      "cell_type": "code",
      "source": [
        "romantic_chordtropies = {'Chopin Waltz': chopin_chordtropy,\n",
        "                        'Lizst Liebestraum': liszt_chordtropy,\n",
        "                        'Schubert Impromptu': schubert_chordtropy,\n",
        "                        'Tchaikovsky June': tchaikovsky_chordtropy}"
      ],
      "metadata": {
        "id": "m_GnlmRkme83"
      },
      "execution_count": 58,
      "outputs": []
    },
    {
      "cell_type": "code",
      "source": [
        "import json\n",
        "\n",
        "with open(\"romantik_chordtropy.json\", \"w\") as outfile:\n",
        "    json.dump(romantic_chordtropies, outfile)"
      ],
      "metadata": {
        "id": "RXOvdcEUmiOl"
      },
      "execution_count": 59,
      "outputs": []
    },
    {
      "cell_type": "markdown",
      "source": [
        "### Early Modern"
      ],
      "metadata": {
        "id": "iNT-Iu9EnKG9"
      }
    },
    {
      "cell_type": "code",
      "source": [
        "schoenberg_chordtropy = entropy_pipeline(df_schoenberg)\n",
        "print(schoenberg_chordtropy)"
      ],
      "metadata": {
        "colab": {
          "base_uri": "https://localhost:8080/"
        },
        "id": "cC8zMG7vnLlO",
        "outputId": "714fe19c-f439-409c-92f1-64409788ba3c"
      },
      "execution_count": 60,
      "outputs": [
        {
          "output_type": "stream",
          "name": "stdout",
          "text": [
            "6.722630681860103\n"
          ]
        }
      ]
    },
    {
      "cell_type": "code",
      "source": [
        "debussy_chordtropy = entropy_pipeline(df_debussy)\n",
        "print(debussy_chordtropy)"
      ],
      "metadata": {
        "colab": {
          "base_uri": "https://localhost:8080/"
        },
        "id": "HQnTWjVMndjO",
        "outputId": "af21d0a0-e911-484b-8124-9aa860470dc6"
      },
      "execution_count": 61,
      "outputs": [
        {
          "output_type": "stream",
          "name": "stdout",
          "text": [
            "6.990396074727471\n"
          ]
        }
      ]
    },
    {
      "cell_type": "code",
      "source": [
        "bartok_chordtropy = entropy_pipeline(df_bartok)\n",
        "print(bartok_chordtropy)"
      ],
      "metadata": {
        "colab": {
          "base_uri": "https://localhost:8080/"
        },
        "id": "hJU_rmNKnm5g",
        "outputId": "3181ce5b-410c-46fe-b6fa-7525f0bf40ef"
      },
      "execution_count": 62,
      "outputs": [
        {
          "output_type": "stream",
          "name": "stdout",
          "text": [
            "8.1563277464837\n"
          ]
        }
      ]
    },
    {
      "cell_type": "code",
      "source": [
        "scriabin_chordtropy = entropy_pipeline(df_scriabin)\n",
        "print(scriabin_chordtropy)"
      ],
      "metadata": {
        "colab": {
          "base_uri": "https://localhost:8080/"
        },
        "id": "W1IkCtGzn0kv",
        "outputId": "1a536205-87ca-4767-ad1e-1322882e46c6"
      },
      "execution_count": 63,
      "outputs": [
        {
          "output_type": "stream",
          "name": "stdout",
          "text": [
            "7.888174106931777\n"
          ]
        }
      ]
    },
    {
      "cell_type": "code",
      "source": [
        "earlymodern_chordtropies = {'Scriabin Vers La Flamme': scriabin_chordtropy,\n",
        "                           'Debussy Prelude 8:' : debussy_chordtropy,\n",
        "                           'Schoenberg op11mvt3': schoenberg_chordtropy,\n",
        "                           'Bartok Sonata 1 Mvt1': bartok_chordtropy}"
      ],
      "metadata": {
        "id": "Fwe3fyZ7rTk2"
      },
      "execution_count": 70,
      "outputs": []
    },
    {
      "cell_type": "code",
      "source": [
        "with open(\"earlymodern_chordtropy.json\", \"w\") as outfile1:\n",
        "    json.dump(earlymodern_chordtropies, outfile1)"
      ],
      "metadata": {
        "id": "MjKXwbZsrtx1"
      },
      "execution_count": 71,
      "outputs": []
    },
    {
      "cell_type": "markdown",
      "source": [
        "### Contemporary"
      ],
      "metadata": {
        "id": "1L7lNg-YoLUM"
      }
    },
    {
      "cell_type": "code",
      "source": [
        "xenakis_chordtropy = entropy_pipeline(df_xenakis)\n",
        "print(xenakis_chordtropy)"
      ],
      "metadata": {
        "colab": {
          "base_uri": "https://localhost:8080/"
        },
        "id": "SVLX3f6VoWKr",
        "outputId": "a03764fa-b848-4619-9bc6-a6a7782a5ac4"
      },
      "execution_count": 64,
      "outputs": [
        {
          "output_type": "stream",
          "name": "stdout",
          "text": [
            "6.29094824631885\n"
          ]
        }
      ]
    },
    {
      "cell_type": "code",
      "source": [
        "messiaen_chordtropy = entropy_pipeline(df_messiaen)\n",
        "print(messiaen_chordtropy)"
      ],
      "metadata": {
        "colab": {
          "base_uri": "https://localhost:8080/"
        },
        "id": "yzo3K6t2qhdN",
        "outputId": "bea92105-a7ae-4549-a8a8-89015dac6f1f"
      },
      "execution_count": 67,
      "outputs": [
        {
          "output_type": "stream",
          "name": "stdout",
          "text": [
            "7.119414223160959\n"
          ]
        }
      ]
    },
    {
      "cell_type": "code",
      "source": [
        "ligeti_chordtropy = entropy_pipeline(df_ligeti)\n",
        "print(ligeti_chordtropy)"
      ],
      "metadata": {
        "colab": {
          "base_uri": "https://localhost:8080/"
        },
        "id": "A3Ny-iFDqqUy",
        "outputId": "77552018-92ef-49bb-9df5-1ae8d02a90d9"
      },
      "execution_count": 68,
      "outputs": [
        {
          "output_type": "stream",
          "name": "stdout",
          "text": [
            "9.657633840363825\n"
          ]
        }
      ]
    },
    {
      "cell_type": "code",
      "source": [
        "boulez_chordtropy = entropy_pipeline(df_boulez)\n",
        "print(boulez_chordtropy)"
      ],
      "metadata": {
        "colab": {
          "base_uri": "https://localhost:8080/"
        },
        "id": "BrSEgzxyq0Xd",
        "outputId": "dc7d31f0-9c6c-4420-e244-d0a230d0686d"
      },
      "execution_count": 69,
      "outputs": [
        {
          "output_type": "stream",
          "name": "stdout",
          "text": [
            "4.630614509178226\n"
          ]
        }
      ]
    },
    {
      "cell_type": "code",
      "source": [
        "contemporary_chordtropies = {'Messiaen Les Anges': messiaen_chordtropy,\n",
        "                             'Boulez Premier Sonata': boulez_chordtropy,\n",
        "                             'Xenakis Evryali': xenakis_chordtropy,\n",
        "                             'Ligeti Disordre' : ligeti_chordtropy}"
      ],
      "metadata": {
        "id": "4L3ccVjqr8il"
      },
      "execution_count": 72,
      "outputs": []
    },
    {
      "cell_type": "code",
      "source": [
        "with open(\"contemporary_chordtropy.json\", \"w\") as outfile1:\n",
        "    json.dump(contemporary_chordtropies, outfile1)"
      ],
      "metadata": {
        "id": "1SF9CKFZr9OT"
      },
      "execution_count": 73,
      "outputs": []
    },
    {
      "cell_type": "markdown",
      "source": [
        "# Condition entropy over condition probability matrix of distinct vertical elements"
      ],
      "metadata": {
        "id": "d-JjYTtQszsF"
      }
    },
    {
      "cell_type": "markdown",
      "source": [
        "## Functions"
      ],
      "metadata": {
        "id": "SAgziW-vTqdh"
      }
    },
    {
      "cell_type": "code",
      "source": [
        "def assign_labels(sets_list):\n",
        "    set_labels = {}\n",
        "    label_counter = 1\n",
        "    labels_list = []\n",
        "    for s in sets_list:\n",
        "        # convert set to a tuple for hashing\n",
        "        s = tuple(s)\n",
        "        if s not in set_labels:\n",
        "            set_labels[s] = label_counter\n",
        "            label_counter += 1\n",
        "        labels_list.append(set_labels[s])\n",
        "    return labels_list"
      ],
      "metadata": {
        "id": "r7TQ02gKHvgB"
      },
      "execution_count": 142,
      "outputs": []
    },
    {
      "cell_type": "code",
      "source": [
        "def bigram_probabilities(labels_list):\n",
        "    # Create a dictionary to store the bigram counts\n",
        "    bigram_counts = {}\n",
        "    \n",
        "    # Iterate over the labels and count the bigrams\n",
        "    for i in range(len(labels_list)-1):\n",
        "        bigram = (labels_list[i], labels_list[i+1])\n",
        "        if bigram in bigram_counts:\n",
        "            bigram_counts[bigram] += 1\n",
        "        else:\n",
        "            bigram_counts[bigram] = 1\n",
        "    \n",
        "    # Get the unique labels\n",
        "    unique_labels = list(set(labels_list))\n",
        "    n = len(unique_labels)\n",
        "    \n",
        "    # Initialize the bigram probability matrix\n",
        "    bigram_probabilities = np.zeros((n, n))\n",
        "    \n",
        "    # Iterate over the bigram counts and compute the probabilities\n",
        "    for bigram, count in bigram_counts.items():\n",
        "        bigram_probabilities[unique_labels.index(bigram[0]), unique_labels.index(bigram[1])] = count / (labels_list.count(bigram[0])+1e-20)\n",
        "    \n",
        "    return bigram_probabilities"
      ],
      "metadata": {
        "id": "luN8i5nWLtpJ"
      },
      "execution_count": 154,
      "outputs": []
    },
    {
      "cell_type": "code",
      "source": [
        "def conditional_entropy_pipeline(df):\n",
        "  chord_sequence = extract_nonzero_indices_v2(df)\n",
        "  tokenised_chords = assign_labels(chord_sequence)\n",
        "  bigram_probs = pd.DataFrame(bigram_probabilities(tokenised_chords))\n",
        "\n",
        "  row_entropies = []\n",
        "\n",
        "  for index,row in bigram_probs.iterrows():\n",
        "    try:\n",
        "      row_entropy = drv.entropy_pmf(list(row))\n",
        "      row_entropies.append(row_entropy)\n",
        "    except:\n",
        "      continue\n",
        "\n",
        "  return sum(row_entropies)"
      ],
      "metadata": {
        "id": "by7Eyafa2K8M"
      },
      "execution_count": 201,
      "outputs": []
    },
    {
      "cell_type": "markdown",
      "source": [
        "## Baroque / Classical"
      ],
      "metadata": {
        "id": "P4jdmsOXTpQp"
      }
    },
    {
      "cell_type": "code",
      "source": [
        "goldberg_condentropy = conditional_entropy_pipeline(df_bachgoldberg)\n",
        "print(goldberg_condentropy)"
      ],
      "metadata": {
        "colab": {
          "base_uri": "https://localhost:8080/"
        },
        "id": "vv1xLysxSVPb",
        "outputId": "6d203b13-f5c3-4e38-c7a9-3f75ef9fb216"
      },
      "execution_count": 204,
      "outputs": [
        {
          "output_type": "stream",
          "name": "stdout",
          "text": [
            "260.2332869358936\n"
          ]
        }
      ]
    },
    {
      "cell_type": "code",
      "source": [
        "bach847_condentropy = conditional_entropy_pipeline(df_bach847)\n",
        "print(bach847_condentropy)"
      ],
      "metadata": {
        "colab": {
          "base_uri": "https://localhost:8080/"
        },
        "id": "ATCorMdUSxT7",
        "outputId": "16afc696-6227-4a5d-c473-65192fd8ee90"
      },
      "execution_count": 206,
      "outputs": [
        {
          "output_type": "stream",
          "name": "stdout",
          "text": [
            "260.301620498294\n"
          ]
        }
      ]
    },
    {
      "cell_type": "code",
      "source": [
        "haydn_condentropy = conditional_entropy_pipeline(df_haydn)\n",
        "print(haydn_condentropy)"
      ],
      "metadata": {
        "colab": {
          "base_uri": "https://localhost:8080/"
        },
        "id": "e7OwRGQcTF11",
        "outputId": "1ada9ecb-a9ef-4fe3-9d43-e465bdc5ece0"
      },
      "execution_count": 207,
      "outputs": [
        {
          "output_type": "stream",
          "name": "stdout",
          "text": [
            "433.0571739830884\n"
          ]
        }
      ]
    },
    {
      "cell_type": "code",
      "source": [
        "mozart_condentropy = conditional_entropy_pipeline(df_mozart)\n",
        "print(mozart_condentropy)"
      ],
      "metadata": {
        "colab": {
          "base_uri": "https://localhost:8080/"
        },
        "id": "08y-Zsc4TOHQ",
        "outputId": "c85550cc-b2fa-404f-8e03-4f581fa62f0e"
      },
      "execution_count": 208,
      "outputs": [
        {
          "output_type": "stream",
          "name": "stdout",
          "text": [
            "180.2051383029351\n"
          ]
        }
      ]
    },
    {
      "cell_type": "code",
      "source": [
        "baroque_classical_condtropies = {'Bach 847': bach847_condentropy,\n",
        "                                 'Bach Goldberg':goldberg_condentropy,\n",
        "                                 'Haydn Sonata 50': haydn_condentropy,\n",
        "                                 'Mozart Alla Turca': mozart_condentropy}"
      ],
      "metadata": {
        "id": "7vDGOlGSTxB1"
      },
      "execution_count": 209,
      "outputs": []
    },
    {
      "cell_type": "code",
      "source": [
        "import json\n",
        "\n",
        "with open(\"baroque_condentropy.json\", \"w\") as outfile:\n",
        "    json.dump(baroque_classical_condtropies, outfile)"
      ],
      "metadata": {
        "id": "Qz8aBXGYUl3r"
      },
      "execution_count": 210,
      "outputs": []
    },
    {
      "cell_type": "markdown",
      "source": [
        "## Romantic"
      ],
      "metadata": {
        "id": "AJpTOD8GU6jC"
      }
    },
    {
      "cell_type": "code",
      "source": [
        "chopin_condentropy = conditional_entropy_pipeline(df_chopin)\n",
        "print(chopin_condentropy)"
      ],
      "metadata": {
        "colab": {
          "base_uri": "https://localhost:8080/"
        },
        "id": "y0Tx0LxeU8NY",
        "outputId": "6711caff-af80-4ad8-8914-8fcbd22eb5a4"
      },
      "execution_count": 211,
      "outputs": [
        {
          "output_type": "stream",
          "name": "stdout",
          "text": [
            "303.33028174045273\n"
          ]
        }
      ]
    },
    {
      "cell_type": "code",
      "source": [
        "liszt_condentropy = conditional_entropy_pipeline(df_liszt)\n",
        "print(liszt_condentropy)"
      ],
      "metadata": {
        "colab": {
          "base_uri": "https://localhost:8080/"
        },
        "id": "e81wzE7XVFsJ",
        "outputId": "75e688a4-9b8e-430e-970c-efb6433238e5"
      },
      "execution_count": 212,
      "outputs": [
        {
          "output_type": "stream",
          "name": "stdout",
          "text": [
            "500.3907329033592\n"
          ]
        }
      ]
    },
    {
      "cell_type": "code",
      "source": [
        "schubert_condentropy = conditional_entropy_pipeline(df_schubert)\n",
        "print(schubert_condentropy)"
      ],
      "metadata": {
        "colab": {
          "base_uri": "https://localhost:8080/"
        },
        "id": "BM3XbSv6VUX5",
        "outputId": "caec4df7-0dc5-426d-89ff-1d2352b5ab0a"
      },
      "execution_count": 213,
      "outputs": [
        {
          "output_type": "stream",
          "name": "stdout",
          "text": [
            "248.44140206839475\n"
          ]
        }
      ]
    },
    {
      "cell_type": "code",
      "source": [
        "tchaikovsky_condentropy = conditional_entropy_pipeline(df_tchaikovsky)\n",
        "print(tchaikovsky_condentropy)"
      ],
      "metadata": {
        "colab": {
          "base_uri": "https://localhost:8080/"
        },
        "id": "LdqLU-HUVcaP",
        "outputId": "e876513a-596a-4f0a-b7f2-3293fbe12f74"
      },
      "execution_count": 214,
      "outputs": [
        {
          "output_type": "stream",
          "name": "stdout",
          "text": [
            "345.8928258753354\n"
          ]
        }
      ]
    },
    {
      "cell_type": "code",
      "source": [
        "romantic_condtropies = {'Chopin Waltz': chopin_condentropy,\n",
        "                        'Liszt Liebestraum': liszt_condentropy,\n",
        "                        'Schubert Impromptu': schubert_condentropy,\n",
        "                        'Tchaikovsky June': tchaikovsky_condentropy}"
      ],
      "metadata": {
        "id": "kmq87SpIVkWv"
      },
      "execution_count": 215,
      "outputs": []
    },
    {
      "cell_type": "code",
      "source": [
        "with open(\"romantic_condentropy.json\", \"w\") as outfile:\n",
        "    json.dump(romantic_condtropies, outfile)"
      ],
      "metadata": {
        "id": "yMkDn4A6V92d"
      },
      "execution_count": 216,
      "outputs": []
    },
    {
      "cell_type": "markdown",
      "source": [
        "## Early Modern"
      ],
      "metadata": {
        "id": "kSAUsS82WKC1"
      }
    },
    {
      "cell_type": "code",
      "source": [
        "schoenberg_condentropy = conditional_entropy_pipeline(df_schoenberg)\n",
        "print(schoenberg_condentropy)"
      ],
      "metadata": {
        "colab": {
          "base_uri": "https://localhost:8080/"
        },
        "id": "52O7fDCoWMQf",
        "outputId": "1ceab010-d225-4faa-d06b-200df845f392"
      },
      "execution_count": 217,
      "outputs": [
        {
          "output_type": "stream",
          "name": "stdout",
          "text": [
            "168.63094980884395\n"
          ]
        }
      ]
    },
    {
      "cell_type": "code",
      "source": [
        "bartok_condentropy = conditional_entropy_pipeline(df_bartok)\n",
        "print(bartok_condentropy)"
      ],
      "metadata": {
        "colab": {
          "base_uri": "https://localhost:8080/"
        },
        "id": "l5fThEUAWVLD",
        "outputId": "5683066a-72fe-47d4-a918-e62f4312a353"
      },
      "execution_count": 218,
      "outputs": [
        {
          "output_type": "stream",
          "name": "stdout",
          "text": [
            "408.4436479836422\n"
          ]
        }
      ]
    },
    {
      "cell_type": "code",
      "source": [
        "debussy_condentropy = conditional_entropy_pipeline(df_debussy)\n",
        "print(debussy_condentropy)"
      ],
      "metadata": {
        "colab": {
          "base_uri": "https://localhost:8080/"
        },
        "id": "XfTr2YuTWdNI",
        "outputId": "b2962423-dff7-4c0c-b2c5-9514f4be6813"
      },
      "execution_count": 219,
      "outputs": [
        {
          "output_type": "stream",
          "name": "stdout",
          "text": [
            "153.86909093947702\n"
          ]
        }
      ]
    },
    {
      "cell_type": "code",
      "source": [
        "scriabin_condentropy = conditional_entropy_pipeline(df_scriabin)\n",
        "print(scriabin_condentropy)"
      ],
      "metadata": {
        "colab": {
          "base_uri": "https://localhost:8080/"
        },
        "id": "ItVGz1okWh0b",
        "outputId": "1cf92cf0-1c34-422f-8610-16fc1b2aedd7"
      },
      "execution_count": 220,
      "outputs": [
        {
          "output_type": "stream",
          "name": "stdout",
          "text": [
            "405.25228866058404\n"
          ]
        }
      ]
    },
    {
      "cell_type": "code",
      "source": [
        "earlymodern_condtropies = {'Schoenberg Klaiverstücke': schoenberg_condentropy,\n",
        "                      'Debussy Prelude': debussy_condentropy,\n",
        "                      'Scriabin Vers': scriabin_condentropy,\n",
        "                      'Bartok Sonata': bartok_condentropy}"
      ],
      "metadata": {
        "id": "4xfpSVGEWoUw"
      },
      "execution_count": 221,
      "outputs": []
    },
    {
      "cell_type": "code",
      "source": [
        "with open(\"earlymodern_condentropy.json\", \"w\") as outfile:\n",
        "    json.dump(earlymodern_condtropies, outfile)"
      ],
      "metadata": {
        "id": "udN3VTFCXAQg"
      },
      "execution_count": 222,
      "outputs": []
    },
    {
      "cell_type": "markdown",
      "source": [
        "## Contemporary "
      ],
      "metadata": {
        "id": "DzS1jUZpXG2X"
      }
    },
    {
      "cell_type": "code",
      "source": [
        "xenakis_condentropy = conditional_entropy_pipeline(df_xenakis)\n",
        "print(xenakis_condentropy)"
      ],
      "metadata": {
        "colab": {
          "base_uri": "https://localhost:8080/"
        },
        "id": "jKBHMGTqXJvN",
        "outputId": "db7bc810-39ad-4b2e-ca80-eab15294c62b"
      },
      "execution_count": 313,
      "outputs": [
        {
          "output_type": "stream",
          "name": "stdout",
          "text": [
            "400.60023282448003\n"
          ]
        }
      ]
    },
    {
      "cell_type": "code",
      "source": [
        "messiaen_condentropy = conditional_entropy_pipeline(df_messiaen)\n",
        "print(messiaen_condentropy)"
      ],
      "metadata": {
        "colab": {
          "base_uri": "https://localhost:8080/"
        },
        "id": "Sr0AnMMNXQR6",
        "outputId": "70783de3-e603-4475-e063-7e7bed35d8f4"
      },
      "execution_count": 246,
      "outputs": [
        {
          "output_type": "stream",
          "name": "stdout",
          "text": [
            "231.0447097703268\n"
          ]
        }
      ]
    },
    {
      "cell_type": "code",
      "source": [
        "ligeti_condentropy = conditional_entropy_pipeline(df_ligeti)\n",
        "print(ligeti_condentropy)"
      ],
      "metadata": {
        "colab": {
          "base_uri": "https://localhost:8080/"
        },
        "id": "7G90QkY8XXXS",
        "outputId": "6f94f1e4-1982-40ac-8f7b-bee539e294a8"
      },
      "execution_count": 244,
      "outputs": [
        {
          "output_type": "stream",
          "name": "stdout",
          "text": [
            "98.15475932144545\n"
          ]
        }
      ]
    },
    {
      "cell_type": "code",
      "source": [
        "boulez_condentropy = conditional_entropy_pipeline(df_boulez)\n",
        "print(boulez_condentropy)"
      ],
      "metadata": {
        "colab": {
          "base_uri": "https://localhost:8080/"
        },
        "id": "Mkb60dFdXiUe",
        "outputId": "76969efa-5127-4dd7-a431-981171bdc164"
      },
      "execution_count": 241,
      "outputs": [
        {
          "output_type": "stream",
          "name": "stdout",
          "text": [
            "125.4873747921154\n"
          ]
        }
      ]
    },
    {
      "cell_type": "code",
      "source": [
        "contemporary_condtropies = {'Xenakis Evyrail': xenakis_condentropy,\n",
        "                            'Messiaen Les Anges': messiaen_condentropy,\n",
        "                            'Ligeti Disordre': ligeti_condentropy,\n",
        "                            'Boulez Sonata 1': boulez_condentropy}"
      ],
      "metadata": {
        "id": "hDJ_GqVjYKAc"
      },
      "execution_count": 315,
      "outputs": []
    },
    {
      "cell_type": "code",
      "source": [
        "with open(\"contemporary_condentropy.json\", \"w\") as outfile:\n",
        "    json.dump(contemporary_condtropies, outfile)"
      ],
      "metadata": {
        "id": "Aq6wnkCFeplH"
      },
      "execution_count": 316,
      "outputs": []
    },
    {
      "cell_type": "markdown",
      "source": [
        "# Playing with conditional_entropy_pipeline"
      ],
      "metadata": {
        "id": "zjL573UOcPxj"
      }
    },
    {
      "cell_type": "code",
      "source": [
        "def generate_matrix_deterministic(n_rows, n_cols):\n",
        "    matrix = np.zeros((n_rows, n_cols))\n",
        "    for i in range(n_rows):\n",
        "        random_col = np.random.randint(0, n_cols)\n",
        "        matrix[i, random_col] = 1\n",
        "    return matrix"
      ],
      "metadata": {
        "id": "K-2uuB9VYKVa"
      },
      "execution_count": 294,
      "outputs": []
    },
    {
      "cell_type": "code",
      "source": [
        "def generate_matrix_half(n_rows, n_cols):\n",
        "    matrix = np.zeros((n_rows, n_cols))\n",
        "    for i in range(n_rows):\n",
        "        random_cols = np.random.choice(n_cols, 2, replace=False)\n",
        "        matrix[i, random_cols] = 0.5\n",
        "    return matrix"
      ],
      "metadata": {
        "id": "bsYFu6I6ZIxp"
      },
      "execution_count": 295,
      "outputs": []
    },
    {
      "cell_type": "code",
      "source": [
        "def generate_matrix_stochastic(n_rows, n_cols):\n",
        "    matrix = np.random.rand(n_rows,n_cols)\n",
        "    matrix = matrix/np.sum(matrix,axis=1)[:,np.newaxis]\n",
        "    return matrix"
      ],
      "metadata": {
        "id": "Zws4sPkTcLjQ"
      },
      "execution_count": 310,
      "outputs": []
    },
    {
      "cell_type": "code",
      "source": [
        "def test_pipeline(random_matrix):\n",
        "  random_matrix = pd.DataFrame(random_matrix)\n",
        "  row_entropies = []\n",
        "\n",
        "  for index,row in random_matrix.iterrows():\n",
        "    try:\n",
        "      row_entropy = drv.entropy_pmf(list(row))\n",
        "      row_entropies.append(row_entropy)\n",
        "    except:\n",
        "      continue\n",
        "  \n",
        "  return sum(row_entropies)"
      ],
      "metadata": {
        "id": "dPmKN0E3c7kK"
      },
      "execution_count": 302,
      "outputs": []
    },
    {
      "cell_type": "code",
      "source": [
        "dimension = 500\n",
        "\n",
        "deterministic_10x10 = generate_matrix_deterministic(dimension, dimension)\n",
        "half_10x10 = generate_matrix_half(dimension, dimension)\n",
        "trulyrandom_10x10 = generate_matrix_stochastic(dimension, dimension)"
      ],
      "metadata": {
        "id": "Vv6sz7S7ZKPb"
      },
      "execution_count": 311,
      "outputs": []
    },
    {
      "cell_type": "code",
      "source": [
        "print(\"Deterministic Transition Matrix:\", test_pipeline(deterministic_10x10))\n",
        "print(\"--------------------------------------------------------------------\")\n",
        "print(\".5 / .5 Transition:\", test_pipeline(half_10x10))\n",
        "print(\"--------------------------------------------------------------------\")\n",
        "print(\"Stochastic:\", test_pipeline(trulyrandom_10x10))"
      ],
      "metadata": {
        "colab": {
          "base_uri": "https://localhost:8080/"
        },
        "id": "Yo8Se16Haa09",
        "outputId": "acf94e2b-634d-492f-d0fb-7c8a21e7de04"
      },
      "execution_count": 317,
      "outputs": [
        {
          "output_type": "stream",
          "name": "stdout",
          "text": [
            "Deterministic Transition Matrix: 0.0\n",
            "--------------------------------------------------------------------\n",
            ".5 / .5 Transition: 500.0\n",
            "--------------------------------------------------------------------\n",
            "Stochastic: 4343.703236810934\n"
          ]
        }
      ]
    }
  ]
}