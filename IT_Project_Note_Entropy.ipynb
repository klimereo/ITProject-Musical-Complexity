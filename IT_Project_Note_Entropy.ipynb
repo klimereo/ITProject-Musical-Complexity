{
  "nbformat": 4,
  "nbformat_minor": 0,
  "metadata": {
    "colab": {
      "provenance": [],
      "collapsed_sections": [
        "KZtmyyffqpFY",
        "A37_PkrOVuyV",
        "9Uy33_xcrsVi",
        "YHKrZbbg01kr",
        "DoI6UDP505Mu",
        "jH_7SygJ4C83",
        "eBcS-uXT75T2",
        "uXNZY8f1HMe1"
      ]
    },
    "kernelspec": {
      "name": "python3",
      "display_name": "Python 3"
    },
    "language_info": {
      "name": "python"
    }
  },
  "cells": [
    {
      "cell_type": "markdown",
      "source": [
        "# Installing & Importing Libraries"
      ],
      "metadata": {
        "id": "34PwRwPBWIdw"
      }
    },
    {
      "cell_type": "code",
      "execution_count": 3,
      "metadata": {
        "id": "yJALvROzieh1",
        "colab": {
          "base_uri": "https://localhost:8080/"
        },
        "outputId": "295add66-10a3-4f65-813f-716965344f56"
      },
      "outputs": [
        {
          "output_type": "stream",
          "name": "stdout",
          "text": [
            "Looking in indexes: https://pypi.org/simple, https://us-python.pkg.dev/colab-wheels/public/simple/\n",
            "Collecting pyitlib\n",
            "  Downloading pyitlib-0.2.2.tar.gz (27 kB)\n",
            "  Preparing metadata (setup.py) ... \u001b[?25l\u001b[?25hdone\n",
            "Requirement already satisfied: pandas>=0.20.2numpy>=1.9.2 in /usr/local/lib/python3.8/dist-packages (from pyitlib) (1.3.5)\n",
            "Requirement already satisfied: scikit-learn>=0.16.0 in /usr/local/lib/python3.8/dist-packages (from pyitlib) (1.0.2)\n",
            "Requirement already satisfied: scipy>=1.0.1 in /usr/local/lib/python3.8/dist-packages (from pyitlib) (1.7.3)\n",
            "Requirement already satisfied: future>=0.16.0 in /usr/local/lib/python3.8/dist-packages (from pyitlib) (0.16.0)\n",
            "Requirement already satisfied: pytz>=2017.3 in /usr/local/lib/python3.8/dist-packages (from pandas>=0.20.2numpy>=1.9.2->pyitlib) (2022.7)\n",
            "Requirement already satisfied: numpy>=1.17.3 in /usr/local/lib/python3.8/dist-packages (from pandas>=0.20.2numpy>=1.9.2->pyitlib) (1.21.6)\n",
            "Requirement already satisfied: python-dateutil>=2.7.3 in /usr/local/lib/python3.8/dist-packages (from pandas>=0.20.2numpy>=1.9.2->pyitlib) (2.8.2)\n",
            "Requirement already satisfied: threadpoolctl>=2.0.0 in /usr/local/lib/python3.8/dist-packages (from scikit-learn>=0.16.0->pyitlib) (3.1.0)\n",
            "Requirement already satisfied: joblib>=0.11 in /usr/local/lib/python3.8/dist-packages (from scikit-learn>=0.16.0->pyitlib) (1.2.0)\n",
            "Requirement already satisfied: six>=1.5 in /usr/local/lib/python3.8/dist-packages (from python-dateutil>=2.7.3->pandas>=0.20.2numpy>=1.9.2->pyitlib) (1.15.0)\n",
            "Building wheels for collected packages: pyitlib\n",
            "  Building wheel for pyitlib (setup.py) ... \u001b[?25l\u001b[?25hdone\n",
            "  Created wheel for pyitlib: filename=pyitlib-0.2.2-py3-none-any.whl size=28501 sha256=c5b1bde1d7067b3a359cd3a7f8b0994f762aa3c0748e9e05540715c95a0fd796\n",
            "  Stored in directory: /root/.cache/pip/wheels/ea/1d/5e/a1ed049f60c80286f937f1ab1d3574b49d79afc93d51247104\n",
            "Successfully built pyitlib\n",
            "Installing collected packages: pyitlib\n",
            "Successfully installed pyitlib-0.2.2\n",
            "Looking in indexes: https://pypi.org/simple, https://us-python.pkg.dev/colab-wheels/public/simple/\n",
            "Requirement already satisfied: mido in /usr/local/lib/python3.8/dist-packages (1.2.10)\n"
          ]
        }
      ],
      "source": [
        "!pip install pyitlib\n",
        "!pip install mido"
      ]
    },
    {
      "cell_type": "code",
      "source": [
        "import numpy as np\n",
        "import math\n",
        "from collections import Counter\n",
        "import mido\n",
        "import string\n",
        "from pyitlib import discrete_random_variable as drv\n",
        "import music21"
      ],
      "metadata": {
        "id": "PZnuxE5wjI3U"
      },
      "execution_count": 4,
      "outputs": []
    },
    {
      "cell_type": "markdown",
      "source": [
        "# Basic Shannon Entropy Functions"
      ],
      "metadata": {
        "id": "KZtmyyffqpFY"
      }
    },
    {
      "cell_type": "markdown",
      "source": [
        "## Shannon Entropy from scratch"
      ],
      "metadata": {
        "id": "A37_PkrOVuyV"
      }
    },
    {
      "cell_type": "code",
      "source": [
        "def pmf(arr):\n",
        "  # Use the Counter method to count the frequency of each element\n",
        "  element_freq = Counter(arr)\n",
        "\n",
        "  # Calculate the probability mass function\n",
        "  pmf = {}\n",
        "  for elem, freq in element_freq.items():\n",
        "    pmf[elem] = freq / len(arr)\n",
        "\n",
        "  return pmf"
      ],
      "metadata": {
        "id": "TehBLKleklPi"
      },
      "execution_count": 5,
      "outputs": []
    },
    {
      "cell_type": "code",
      "source": [
        "def dict_vals_to_array(dictionary):\n",
        "  # Initialize an empty NumPy array\n",
        "  arr = np.array([])\n",
        "\n",
        "  # Iterate over the values in the dictionary\n",
        "  for value in dictionary.values():\n",
        "    # Append the value to the array\n",
        "    arr = np.append(arr, value)\n",
        "\n",
        "  return arr"
      ],
      "metadata": {
        "id": "r_kFshwJvzYy"
      },
      "execution_count": 6,
      "outputs": []
    },
    {
      "cell_type": "code",
      "source": [
        "def shannon_entropy(array_with_probabilities):\n",
        "  entropies = []\n",
        "  for key, value in array_with_probabilities.items():\n",
        "    logged = value * math.log2(value)\n",
        "    entropies.append(logged)\n",
        "\n",
        "  source_entropy = - sum(entropies)\n",
        "  return source_entropy"
      ],
      "metadata": {
        "id": "ACDY6U7fmfOk"
      },
      "execution_count": 7,
      "outputs": []
    },
    {
      "cell_type": "markdown",
      "source": [
        "## Using PyItlib"
      ],
      "metadata": {
        "id": "9Uy33_xcrsVi"
      }
    },
    {
      "cell_type": "code",
      "source": [
        "def extract_notes(midi_file):\n",
        "  # Load the MIDI file into a music21 stream\n",
        "  stream = music21.converter.parse(midi_file)\n",
        "\n",
        "  # Extract the notes and chords from the stream\n",
        "  notes = []\n",
        "  for element in stream.recurse():\n",
        "    # If the element is a note or a chord, add it to the list\n",
        "    if isinstance(element, music21.note.Note):\n",
        "      # Extract the pitch and rhythm information for the note\n",
        "      pitch = str(element.pitch)\n",
        "      rhythm = element.duration.type\n",
        "      notes.append(pitch + '_' + str(rhythm))\n",
        "    elif isinstance(element, music21.chord.Chord):\n",
        "      # Extract the pitch and rhythm information for the chord\n",
        "      pitches = '.'.join(str(n) for n in element.normalOrder)\n",
        "      rhythm = element.duration.type\n",
        "      notes.append(pitches + '_' + str(rhythm))\n",
        "\n",
        "  return notes"
      ],
      "metadata": {
        "id": "Yk9ykiJcyU_J"
      },
      "execution_count": 8,
      "outputs": []
    },
    {
      "cell_type": "code",
      "source": [
        "def entropy_pipeline(filename):\n",
        "  piece_notes = extract_notes(filename)\n",
        "  piece_probs = dict_vals_to_array(pmf(piece_notes))\n",
        "  entropyOfPiece = drv.entropy_pmf(piece_probs)\n",
        "\n",
        "  return entropyOfPiece"
      ],
      "metadata": {
        "id": "5qzZzbf27de_"
      },
      "execution_count": 9,
      "outputs": []
    },
    {
      "cell_type": "code",
      "source": [
        "def generate_conditional_probability_matrix(seq):\n",
        "  # Create a dictionary to store the frequency of each element\n",
        "  element_freq = {}\n",
        "  for i in range(len(seq) - 1):\n",
        "    current_elem = seq[i]\n",
        "    next_elem = seq[i + 1]\n",
        "    if current_elem in element_freq:\n",
        "      if next_elem in element_freq[current_elem]:\n",
        "        element_freq[current_elem][next_elem] += 1\n",
        "      else:\n",
        "        element_freq[current_elem][next_elem] = 1\n",
        "    else:\n",
        "      element_freq[current_elem] = {next_elem: 1}\n",
        "\n",
        "  # Calculate the conditional probability matrix\n",
        "  elements = list(element_freq.keys())\n",
        "  num_elements = len(elements)\n",
        "  matrix = np.zeros((num_elements, num_elements))\n",
        "  for i, current_elem in enumerate(elements):\n",
        "    total_count = sum(element_freq[current_elem].values())\n",
        "    for j, next_elem in enumerate(elements):\n",
        "      count = element_freq[current_elem].get(next_elem, 0)\n",
        "      matrix[i, j] = count / total_count\n",
        "\n",
        "  return matrix"
      ],
      "metadata": {
        "id": "bPhxDGbdCa-M"
      },
      "execution_count": 10,
      "outputs": []
    },
    {
      "cell_type": "code",
      "source": [
        "### This is a function developed as an alternative to the pyitlib conditional \n",
        "### entropy ###\n",
        "\n",
        "def calculate_conditional_entropy(matrix):\n",
        "  # Check that the matrix is a square matrix\n",
        "  num_rows, num_cols = matrix.shape\n",
        "  if num_rows != num_cols:\n",
        "    raise ValueError('Matrix must be square')\n",
        "\n",
        "  # Calculate the conditional entropy\n",
        "  entropy = 0\n",
        "  for i in range(num_rows):\n",
        "    for j in range(num_cols):\n",
        "      probability = matrix[i, j]\n",
        "      if probability > 0:\n",
        "        entropy -= probability * np.log2(probability)\n",
        "\n",
        "  return entropy"
      ],
      "metadata": {
        "id": "8eNYLGuNELt6"
      },
      "execution_count": 11,
      "outputs": []
    },
    {
      "cell_type": "code",
      "source": [
        "def conditional_entropy_pipeline(filename):\n",
        "\n",
        "  #Generate conditional probability matrix X, Y\n",
        "  piece_notes = extract_notes(filename)\n",
        "  piece_probs = dict_vals_to_array(pmf(piece_notes))\n",
        "  cond_prob_matrix = generate_conditional_probability_matrix(piece_probs)\n",
        "  print(cond_prob_matrix.shape)\n",
        "\n",
        "  # This function now uses the library method not the one developed above\n",
        "  conditionalEntropyOfPiece = drv.entropy_conditional(cond_prob_matrix, cartesian_product=True)\n",
        "\n",
        "  return conditionalEntropyOfPiece"
      ],
      "metadata": {
        "id": "ddC3AY3uBonn"
      },
      "execution_count": 12,
      "outputs": []
    },
    {
      "cell_type": "markdown",
      "source": [
        "# Calculating Shannon Entropy over Notes"
      ],
      "metadata": {
        "id": "YHKrZbbg01kr"
      }
    },
    {
      "cell_type": "markdown",
      "source": [
        "## Baroque Classical"
      ],
      "metadata": {
        "id": "DoI6UDP505Mu"
      }
    },
    {
      "cell_type": "code",
      "source": [
        "bach_847_shentropy = entropy_pipeline('bach_847.mid')\n",
        "print(bach_847_shentropy)"
      ],
      "metadata": {
        "colab": {
          "base_uri": "https://localhost:8080/"
        },
        "id": "uGTZnHHsGo55",
        "outputId": "7f351d09-15fa-48e3-dd16-bc788e85f392"
      },
      "execution_count": 93,
      "outputs": [
        {
          "output_type": "stream",
          "name": "stdout",
          "text": [
            "5.506950023584544\n"
          ]
        }
      ]
    },
    {
      "cell_type": "code",
      "source": [
        "bach_goldberg1_shentropy = entropy_pipeline('goldberg_variation1.mid')\n",
        "print(bach_goldberg1_shentropy)"
      ],
      "metadata": {
        "colab": {
          "base_uri": "https://localhost:8080/"
        },
        "id": "OetmXjCb1-P-",
        "outputId": "73591019-fce5-4a9d-a228-3e0106ebb8dc"
      },
      "execution_count": 94,
      "outputs": [
        {
          "output_type": "stream",
          "name": "stdout",
          "text": [
            "5.620435538632966\n"
          ]
        }
      ]
    },
    {
      "cell_type": "code",
      "source": [
        "haydn_sonata50_shentropy = entropy_pipeline('haydn_sonata50.mid')\n",
        "print(haydn_sonata50_shentropy)"
      ],
      "metadata": {
        "colab": {
          "base_uri": "https://localhost:8080/"
        },
        "id": "kMVZkMi72Msz",
        "outputId": "fccce443-75f9-4c47-f7a3-01efbb3a1e36"
      },
      "execution_count": 95,
      "outputs": [
        {
          "output_type": "stream",
          "name": "stdout",
          "text": [
            "6.328727299804061\n"
          ]
        }
      ]
    },
    {
      "cell_type": "code",
      "source": [
        "mozart_allaturca_shentropy = entropy_pipeline('mz_331_3.mid')\n",
        "print(mozart_allaturca_shentropy)"
      ],
      "metadata": {
        "colab": {
          "base_uri": "https://localhost:8080/"
        },
        "id": "ZqnMpOeZ2Wks",
        "outputId": "e37db3f1-518c-452b-a36b-4723fd66634e"
      },
      "execution_count": 96,
      "outputs": [
        {
          "output_type": "stream",
          "name": "stdout",
          "text": [
            "5.998407748300801\n"
          ]
        }
      ]
    },
    {
      "cell_type": "code",
      "source": [
        "baroque_classical_shentropies = {'Bach 847': bach_847_shentropy, \n",
        "                                 'Bach Goldberg 1': bach_goldberg1_shentropy,\n",
        "                                 'Haydn Sonata 50': haydn_sonata50_shentropy, \n",
        "                                 'Mozart Alla Turca': mozart_allaturca_shentropy}"
      ],
      "metadata": {
        "id": "LlwPlUGn2jYP"
      },
      "execution_count": 100,
      "outputs": []
    },
    {
      "cell_type": "code",
      "source": [
        "import json\n",
        "\n",
        "with open(\"barok_shentropy.json\", \"w\") as outfile:\n",
        "    json.dump(baroque_classical_shentropies, outfile)"
      ],
      "metadata": {
        "id": "CSwVGKVYVRwP"
      },
      "execution_count": 101,
      "outputs": []
    },
    {
      "cell_type": "markdown",
      "source": [
        "## Romantic"
      ],
      "metadata": {
        "id": "jH_7SygJ4C83"
      }
    },
    {
      "cell_type": "code",
      "source": [
        "chopin_waltzCsharp_shentropy = entropy_pipeline('Waltz-in-C-Sharp-Minor-Opus-64-Nr-2.mid')\n",
        "print(chopin_waltzCsharp_shentropy)"
      ],
      "metadata": {
        "colab": {
          "base_uri": "https://localhost:8080/"
        },
        "id": "FpaZGAhk4GUv",
        "outputId": "189657b0-93cb-4560-b137-a0dc29c8d330"
      },
      "execution_count": 42,
      "outputs": [
        {
          "output_type": "stream",
          "name": "stdout",
          "text": [
            "7.432077849211035\n"
          ]
        }
      ]
    },
    {
      "cell_type": "code",
      "source": [
        "lizst_liebestraum_shentropy = entropy_pipeline('liz_liebestraum.mid')\n",
        "print(lizst_liebestraum_shentropy)"
      ],
      "metadata": {
        "colab": {
          "base_uri": "https://localhost:8080/"
        },
        "id": "KOiSgrom4Z8V",
        "outputId": "edfab8b8-33e7-486d-eb7b-e35b1c30fe6f"
      },
      "execution_count": 43,
      "outputs": [
        {
          "output_type": "stream",
          "name": "stdout",
          "text": [
            "6.780336426513806\n"
          ]
        }
      ]
    },
    {
      "cell_type": "code",
      "source": [
        "schubert_impromptu2_shentropy = entropy_pipeline('schubert_impromptu2.mid')\n",
        "print(schubert_impromptu2_shentropy)"
      ],
      "metadata": {
        "colab": {
          "base_uri": "https://localhost:8080/"
        },
        "id": "89rCqXyu4mgq",
        "outputId": "2189ca00-260b-481a-efd7-a9b3424c7083"
      },
      "execution_count": 45,
      "outputs": [
        {
          "output_type": "stream",
          "name": "stdout",
          "text": [
            "6.617533694253459\n"
          ]
        }
      ]
    },
    {
      "cell_type": "code",
      "source": [
        "tchaikovsky_june_shentropy = entropy_pipeline(\"tchaikovsky_june.mid\")\n",
        "print(tchaikovsky_june_shentropy)"
      ],
      "metadata": {
        "colab": {
          "base_uri": "https://localhost:8080/"
        },
        "id": "RE7z-mtq5OUe",
        "outputId": "2ab0405c-026b-453a-f7f4-c2f53afec676"
      },
      "execution_count": 102,
      "outputs": [
        {
          "output_type": "stream",
          "name": "stdout",
          "text": [
            "6.733572845656736\n"
          ]
        }
      ]
    },
    {
      "cell_type": "code",
      "source": [
        "romantic_shentropies = {'Chopin Waltz': chopin_waltzCsharp_shentropy,\n",
        "                        'Lizst Liebestraum': lizst_liebestraum_shentropy,\n",
        "                        'Schubert Impromptu': schubert_impromptu2_shentropy,\n",
        "                        'Tchaikovsky June': tchaikovsky_june_shentropy}"
      ],
      "metadata": {
        "id": "qCctklOq5h3k"
      },
      "execution_count": 103,
      "outputs": []
    },
    {
      "cell_type": "code",
      "source": [
        "with open(\"/content/romantik_shentropy.json\", \"w\") as outfile1:\n",
        "    json.dump(romantic_shentropies, outfile1)"
      ],
      "metadata": {
        "id": "ihI2sntMWK_O"
      },
      "execution_count": 107,
      "outputs": []
    },
    {
      "cell_type": "markdown",
      "source": [
        "## Early-Modern / Late Romantic"
      ],
      "metadata": {
        "id": "eBcS-uXT75T2"
      }
    },
    {
      "cell_type": "code",
      "source": [
        "scriabin_verslaflamme_shentropy = entropy_pipeline(\"vers_la_flamme_72_(c)lefeldt.mid\")\n",
        "print(scriabin_verslaflamme_shentropy)"
      ],
      "metadata": {
        "colab": {
          "base_uri": "https://localhost:8080/"
        },
        "id": "wuJRLTZy7796",
        "outputId": "47f3c7f6-9baf-4a5a-87d9-1ffed3667638"
      },
      "execution_count": 64,
      "outputs": [
        {
          "output_type": "stream",
          "name": "stdout",
          "text": [
            "6.808891455845934\n"
          ]
        }
      ]
    },
    {
      "cell_type": "code",
      "source": [
        "debussy_prelude8_shentropy = entropy_pipeline(\"debussyprelude.mid\")\n",
        "print(debussy_prelude8_shentropy)"
      ],
      "metadata": {
        "colab": {
          "base_uri": "https://localhost:8080/"
        },
        "id": "vegWVgoP-LDo",
        "outputId": "08422f3a-7829-445b-e577-1e28b5c68bd1"
      },
      "execution_count": 65,
      "outputs": [
        {
          "output_type": "stream",
          "name": "stdout",
          "text": [
            "6.664076493493506\n"
          ]
        }
      ]
    },
    {
      "cell_type": "code",
      "source": [
        "schoenberg_op11mvt3_shentropy = entropy_pipeline(\"schoenberg_drei_klavierstucke_11_3_(c)simonetto.mid\")\n",
        "print(schoenberg_op11mvt3_shentropy)"
      ],
      "metadata": {
        "colab": {
          "base_uri": "https://localhost:8080/"
        },
        "id": "DAchcy2d-oEQ",
        "outputId": "3627ed38-7c23-422c-fa23-eaf7747862a7"
      },
      "execution_count": 66,
      "outputs": [
        {
          "output_type": "stream",
          "name": "stdout",
          "text": [
            "8.058324461758446\n"
          ]
        }
      ]
    },
    {
      "cell_type": "code",
      "source": [
        "bartok_sonata1mvt1_shentropy = entropy_pipeline(\"bartok_piano_sonata_1_cunknown.mid\")\n",
        "print(bartok_sonata1mvt1_shentropy)"
      ],
      "metadata": {
        "colab": {
          "base_uri": "https://localhost:8080/"
        },
        "id": "SNlfmkHBA4wC",
        "outputId": "c75b9d5f-80d4-444d-c277-c1d82c9b5ec5"
      },
      "execution_count": 67,
      "outputs": [
        {
          "output_type": "stream",
          "name": "stdout",
          "text": [
            "7.298191604966489\n"
          ]
        }
      ]
    },
    {
      "cell_type": "code",
      "source": [
        "earlymodern_shentropies = {'Scriabin Vers La Flamme': scriabin_verslaflamme_shentropy,\n",
        "                           'Debussy Prelude 8:' : debussy_prelude8_shentropy,\n",
        "                           'Schoenberg op11mvt3': schoenberg_op11mvt3_shentropy,\n",
        "                           'Bartok Sonata 1 Mvt1': bartok_sonata1mvt1_shentropy}"
      ],
      "metadata": {
        "id": "cmFSKO6dCinN"
      },
      "execution_count": 69,
      "outputs": []
    },
    {
      "cell_type": "code",
      "source": [
        "with open(\"/content/earlymodern_shentropy.json\", \"w\") as outfile1:\n",
        "    json.dump(earlymodern_shentropies, outfile1)"
      ],
      "metadata": {
        "id": "kzLZCmGvWtk_"
      },
      "execution_count": 108,
      "outputs": []
    },
    {
      "cell_type": "markdown",
      "source": [
        "## Contemporary"
      ],
      "metadata": {
        "id": "uXNZY8f1HMe1"
      }
    },
    {
      "cell_type": "code",
      "source": [
        "messiaen_lesanges_shentropy = entropy_pipeline(\"messiaen_la_nativite_du_seigneur_6_(c)mccoy.mid\")\n",
        "print(messiaen_lesanges_shentropy)"
      ],
      "metadata": {
        "colab": {
          "base_uri": "https://localhost:8080/"
        },
        "id": "6-KDt6huHO8O",
        "outputId": "44232628-61bc-4951-c39d-857cdf340957"
      },
      "execution_count": 70,
      "outputs": [
        {
          "output_type": "stream",
          "name": "stdout",
          "text": [
            "6.46667916289563\n"
          ]
        }
      ]
    },
    {
      "cell_type": "code",
      "source": [
        "boulez_premieresonata_shentropy = entropy_pipeline(\"BoulezPREMIERE_SONATE1946.mid\")\n",
        "print(boulez_premieresonata_shentropy)"
      ],
      "metadata": {
        "colab": {
          "base_uri": "https://localhost:8080/"
        },
        "id": "xpFlt81WMypp",
        "outputId": "68de04ad-7105-45e3-bd6f-b452ea9f95ee"
      },
      "execution_count": 79,
      "outputs": [
        {
          "output_type": "stream",
          "name": "stdout",
          "text": [
            "7.684505477412431\n"
          ]
        }
      ]
    },
    {
      "cell_type": "code",
      "source": [
        "ligeti_disordre_shentropy = entropy_pipeline(\"tude_1_Dsordre__Gyrgy_Ligeti_with_annotationcolor_coding.mid\")\n",
        "print(ligeti_disordre_shentropy)"
      ],
      "metadata": {
        "colab": {
          "base_uri": "https://localhost:8080/"
        },
        "id": "-fT8ESxiPwIZ",
        "outputId": "86ca7b54-0819-4432-90d3-a39323f7a687"
      },
      "execution_count": 83,
      "outputs": [
        {
          "output_type": "stream",
          "name": "stdout",
          "text": [
            "6.627844023808542\n"
          ]
        }
      ]
    },
    {
      "cell_type": "code",
      "source": [
        "xenakis_evryali_shentropy = entropy_pipeline('evryalixx.mid')\n",
        "print(xenakis_evryali_shentropy)"
      ],
      "metadata": {
        "colab": {
          "base_uri": "https://localhost:8080/"
        },
        "id": "cuYaUFTFR_Pg",
        "outputId": "2b197a9c-e068-44fe-e8a0-315d7487e445"
      },
      "execution_count": 85,
      "outputs": [
        {
          "output_type": "stream",
          "name": "stdout",
          "text": [
            "9.954933266409508\n"
          ]
        }
      ]
    },
    {
      "cell_type": "code",
      "source": [
        "contemporary_shentropies = {'Messiaen Les Anges': messiaen_lesanges_shentropy,\n",
        "                            'Boulez Premier Sonata': boulez_premieresonata_shentropy,\n",
        "                            'Xenakis Evryali': xenakis_evryali_shentropy,\n",
        "                            'Ligeti Disordre' : ligeti_disordre_shentropy}"
      ],
      "metadata": {
        "id": "8Cx3NvU5Qnmi"
      },
      "execution_count": 109,
      "outputs": []
    },
    {
      "cell_type": "code",
      "source": [
        "with open(\"/content/contemporary_shentropy.json\", \"w\") as outfile1:\n",
        "    json.dump(contemporary_shentropies, outfile1)"
      ],
      "metadata": {
        "id": "DU63SkLGXFfq"
      },
      "execution_count": 110,
      "outputs": []
    },
    {
      "cell_type": "code",
      "source": [
        "def msg2dict(msg):\n",
        "    result = dict()\n",
        "    if 'note_on' in msg:\n",
        "        on_ = True\n",
        "    elif 'note_off' in msg:\n",
        "        on_ = False\n",
        "    else:\n",
        "        on_ = None\n",
        "    result['time'] = int(msg[msg.rfind('time'):].split(' ')[0].split('=')[1].translate(\n",
        "        str.maketrans({a: None for a in string.punctuation})))\n",
        "\n",
        "    if on_ is not None:\n",
        "        for k in ['note', 'velocity']:\n",
        "            result[k] = int(msg[msg.rfind(k):].split(' ')[0].split('=')[1].translate(\n",
        "                str.maketrans({a: None for a in string.punctuation})))\n",
        "    return [result, on_]"
      ],
      "metadata": {
        "id": "euJIhJAUQxuu"
      },
      "execution_count": 111,
      "outputs": []
    },
    {
      "cell_type": "code",
      "source": [
        "def switch_note(last_state, note, velocity, on_=True):\n",
        "    # piano has 88 notes, corresponding to note id 21 to 108, any note out of this range will be ignored\n",
        "    result = [0] * 88 if last_state is None else last_state.copy()\n",
        "    if 21 <= note <= 108:\n",
        "        result[note-21] = velocity if on_ else 0\n",
        "    return result"
      ],
      "metadata": {
        "id": "yJzNKTvCQv4f"
      },
      "execution_count": 112,
      "outputs": []
    },
    {
      "cell_type": "code",
      "source": [
        "def get_new_state(new_msg, last_state):\n",
        "    new_msg, on_ = msg2dict(str(new_msg))\n",
        "    new_state = switch_note(last_state, note=new_msg['note'], velocity=new_msg['velocity'], on_=on_) if on_ is not None else last_state\n",
        "    return [new_state, new_msg['time']]\n",
        "def track2seq(track):\n",
        "    # piano has 88 notes, corresponding to note id 21 to 108, any note out of the id range will be ignored\n",
        "    result = []\n",
        "    last_state, last_time = get_new_state(str(track[0]), [0]*88)\n",
        "    for i in range(1, len(track)):\n",
        "        new_state, new_time = get_new_state(track[i], last_state)\n",
        "        if new_time > 0:\n",
        "            result += [last_state]*new_time\n",
        "        last_state, last_time = new_state, new_time\n",
        "    return result"
      ],
      "metadata": {
        "id": "GNdpfzFQQtV_"
      },
      "execution_count": 113,
      "outputs": []
    },
    {
      "cell_type": "code",
      "source": [
        "def mid2arry(mid, min_msg_pct=0.1):\n",
        "    tracks_len = [len(tr) for tr in mid.tracks]\n",
        "    min_n_msg = max(tracks_len) * min_msg_pct\n",
        "    # convert each track to nested list\n",
        "    all_arys = []\n",
        "    for i in range(len(mid.tracks)):\n",
        "        if len(mid.tracks[i]) > min_n_msg:\n",
        "            ary_i = track2seq(mid.tracks[i])\n",
        "            all_arys.append(ary_i)\n",
        "    # make all nested list the same length\n",
        "    max_len = max([len(ary) for ary in all_arys])\n",
        "    for i in range(len(all_arys)):\n",
        "        if len(all_arys[i]) < max_len:\n",
        "            all_arys[i] += [[0] * 88] * (max_len - len(all_arys[i]))\n",
        "    all_arys = np.array(all_arys)\n",
        "    all_arys = all_arys.max(axis=0)\n",
        "    # trim: remove consecutive 0s in the beginning and at the end\n",
        "    sums = all_arys.sum(axis=1)\n",
        "    ends = np.where(sums > 0)[0]\n",
        "    return all_arys[min(ends): max(ends)]"
      ],
      "metadata": {
        "id": "hyH3NgbmQkDo"
      },
      "execution_count": 114,
      "outputs": []
    },
    {
      "cell_type": "code",
      "source": [
        "mid2arry(bach_847.mid)"
      ],
      "metadata": {
        "colab": {
          "base_uri": "https://localhost:8080/",
          "height": 169
        },
        "id": "5o3RyMCoXs0u",
        "outputId": "64ca4224-b1b2-4a1a-97f7-7e6f09560324"
      },
      "execution_count": 116,
      "outputs": [
        {
          "output_type": "error",
          "ename": "NameError",
          "evalue": "ignored",
          "traceback": [
            "\u001b[0;31m---------------------------------------------------------------------------\u001b[0m",
            "\u001b[0;31mNameError\u001b[0m                                 Traceback (most recent call last)",
            "\u001b[0;32m<ipython-input-116-bf8321cf61a8>\u001b[0m in \u001b[0;36m<module>\u001b[0;34m\u001b[0m\n\u001b[0;32m----> 1\u001b[0;31m \u001b[0mmid2arry\u001b[0m\u001b[0;34m(\u001b[0m\u001b[0mbach_847\u001b[0m\u001b[0;34m.\u001b[0m\u001b[0mmid\u001b[0m\u001b[0;34m)\u001b[0m\u001b[0;34m\u001b[0m\u001b[0;34m\u001b[0m\u001b[0m\n\u001b[0m",
            "\u001b[0;31mNameError\u001b[0m: name 'bach_847' is not defined"
          ]
        }
      ]
    },
    {
      "cell_type": "code",
      "source": [
        "arrayz= mid2arry(mid)"
      ],
      "metadata": {
        "id": "qQn-11PEQlye",
        "colab": {
          "base_uri": "https://localhost:8080/",
          "height": 169
        },
        "outputId": "0b38e899-9bb7-4a1e-e0b0-39c658088326"
      },
      "execution_count": 23,
      "outputs": [
        {
          "output_type": "error",
          "ename": "NameError",
          "evalue": "ignored",
          "traceback": [
            "\u001b[0;31m---------------------------------------------------------------------------\u001b[0m",
            "\u001b[0;31mNameError\u001b[0m                                 Traceback (most recent call last)",
            "\u001b[0;32m<ipython-input-23-29903f06282f>\u001b[0m in \u001b[0;36m<module>\u001b[0;34m\u001b[0m\n\u001b[0;32m----> 1\u001b[0;31m \u001b[0marrayz\u001b[0m\u001b[0;34m=\u001b[0m \u001b[0mmid2arry\u001b[0m\u001b[0;34m(\u001b[0m\u001b[0mmid\u001b[0m\u001b[0;34m)\u001b[0m\u001b[0;34m\u001b[0m\u001b[0;34m\u001b[0m\u001b[0m\n\u001b[0m",
            "\u001b[0;31mNameError\u001b[0m: name 'mid2arry' is not defined"
          ]
        }
      ]
    },
    {
      "cell_type": "code",
      "source": [
        "arrayz.shape"
      ],
      "metadata": {
        "colab": {
          "base_uri": "https://localhost:8080/",
          "height": 169
        },
        "id": "qgmRhG0l160p",
        "outputId": "a72031a5-bd28-4321-bc58-99075b9542d0"
      },
      "execution_count": 22,
      "outputs": [
        {
          "output_type": "error",
          "ename": "NameError",
          "evalue": "ignored",
          "traceback": [
            "\u001b[0;31m---------------------------------------------------------------------------\u001b[0m",
            "\u001b[0;31mNameError\u001b[0m                                 Traceback (most recent call last)",
            "\u001b[0;32m<ipython-input-22-5e8ebb029c3f>\u001b[0m in \u001b[0;36m<module>\u001b[0;34m\u001b[0m\n\u001b[0;32m----> 1\u001b[0;31m \u001b[0marrayz\u001b[0m\u001b[0;34m.\u001b[0m\u001b[0mshape\u001b[0m\u001b[0;34m(\u001b[0m\u001b[0;34m)\u001b[0m\u001b[0;34m\u001b[0m\u001b[0;34m\u001b[0m\u001b[0m\n\u001b[0m",
            "\u001b[0;31mNameError\u001b[0m: name 'arrayz' is not defined"
          ]
        }
      ]
    },
    {
      "cell_type": "code",
      "source": [
        "import matplotlib.pyplot as plt\n",
        "plt.plot(range(arrayz.shape[0]), np.multiply(np.where(arrayz>0, 1, 0), range(1, 89)), marker='.', markersize=1, linestyle='')\n",
        "plt.title(\"Bach Goldberg Variation 1.mid\")\n",
        "plt.show()\n",
        "plt.savefig('bach.png', dpi=600)"
      ],
      "metadata": {
        "colab": {
          "base_uri": "https://localhost:8080/",
          "height": 298
        },
        "id": "or9FKkXvQ_O2",
        "outputId": "d85b543a-09bc-4f0e-ebbe-5fa3ac6a4939"
      },
      "execution_count": null,
      "outputs": [
        {
          "output_type": "display_data",
          "data": {
            "text/plain": [
              "<Figure size 432x288 with 1 Axes>"
            ],
            "image/png": "[encoded data removed]"
          },
          "metadata": {
            "image/png": {
              "width": 369,
              "height": 263
            },
            "needs_background": "light"
          }
        },
        {
          "output_type": "display_data",
          "data": {
            "text/plain": [
              "<Figure size 432x288 with 0 Axes>"
            ]
          },
          "metadata": {}
        }
      ]
    },
    {
      "cell_type": "code",
      "source": [
        "def detect_midi_type(midi_file):\n",
        "    mid = mido.MidiFile(midi_file)\n",
        "    if len(mid.tracks) == 1:\n",
        "        return \"Type 0 (single track)\"\n",
        "    elif all(track[0].time == 0 for track in mid.tracks):\n",
        "        return \"Type 1 (synchronous)\"\n",
        "    else:\n",
        "        return \"Type 2 (asynchronous)\""
      ],
      "metadata": {
        "id": "mqtWE9B83FH_"
      },
      "execution_count": 38,
      "outputs": []
    },
    {
      "cell_type": "code",
      "source": [
        "def track_contents(midi_file):\n",
        "    mid = mido.MidiFile(midi_file)\n",
        "    tracks_data = []\n",
        "    for track_number, track in enumerate(mid.tracks):\n",
        "        track_type = \"music\"\n",
        "        for msg in track:\n",
        "            if msg.type == 'key_signature' or msg.type == 'time_signature':\n",
        "                track_type = \"metadata\"\n",
        "                break\n",
        "            elif msg.type == 'note_on':\n",
        "                track_type = \"music\"\n",
        "                break\n",
        "        tracks_data.append((track_number, track_type))\n",
        "    return tracks_data"
      ],
      "metadata": {
        "id": "IJzco7nw3KOm"
      },
      "execution_count": 59,
      "outputs": []
    },
    {
      "cell_type": "code",
      "source": [
        "track_contents(\"bach_847.mid\")"
      ],
      "metadata": {
        "colab": {
          "base_uri": "https://localhost:8080/"
        },
        "id": "GXJA1eO36o5S",
        "outputId": "69a31d75-47ef-4329-c0c8-14c37eafe752"
      },
      "execution_count": 60,
      "outputs": [
        {
          "output_type": "execute_result",
          "data": {
            "text/plain": [
              "[(0, 'metadata'),\n",
              " (1, 'music'),\n",
              " (2, 'music'),\n",
              " (3, 'music'),\n",
              " (4, 'music'),\n",
              " (5, 'music'),\n",
              " (6, 'music'),\n",
              " (7, 'music'),\n",
              " (8, 'music'),\n",
              " (9, 'music')]"
            ]
          },
          "metadata": {},
          "execution_count": 60
        }
      ]
    },
    {
      "cell_type": "code",
      "source": [
        "\n",
        "def midi_to_matrix(midi_file):\n",
        "    # Load the MIDI file\n",
        "    mid = mido.MidiFile(midi_file)\n",
        "\n",
        "    # Get the resolution (ticks per beat) from the MIDI file\n",
        "    resolution = mid.ticks_per_beat\n",
        "\n",
        "    # Get the tempo of the MIDI file\n",
        "    tempo = mido.bpm2tempo(120)\n",
        "\n",
        "    # Get the length of the MIDI file in seconds\n",
        "    midi_length = sum(mido.tick2second(track.length, tempo, resolution) for track in mid.tracks)\n",
        "\n",
        "    # Create a matrix with 128 rows (for 128 pitches) and 4 * midi_length columns\n",
        "    matrix = np.zeros((128, int(4 * midi_length)))\n",
        "\n",
        "    # Initialize a dictionary to store the current notes\n",
        "    current_notes = {}\n",
        "\n",
        "    # Iterate through all the tracks in the MIDI file\n",
        "    for track in mid.tracks:\n",
        "        # Get the time of the previous event\n",
        "        prev_time = 0\n",
        "        # Iterate through all the MIDI events in the track\n",
        "        for msg in track:\n",
        "            if msg.time:\n",
        "                # Calculate the duration of the event in seconds\n",
        "                duration = mido.tick2second(msg.time, tempo, resolution)\n",
        "                prev_time += duration\n",
        "                # Calculate the column index for the note in terms of 1/4 of a second\n",
        "                column = int(prev_time * 4)\n",
        "                if msg.type == 'note_on':\n",
        "                    # Add the note to the current_notes dictionary\n",
        "                    current_notes[msg.note] = column\n",
        "                elif msg.type == 'note_off':\n",
        "                    # If the note is in current_notes, remove it\n",
        "                    if msg.note in current_notes:\n",
        "                        del current_notes[msg.note]\n",
        "                    # Set the corresponding matrix element to 1 for the column and all columns before it\n",
        "                    for note in current_notes:\n",
        "                        for i in range(current_notes[note], column):\n",
        "                            matrix[note][i] = 1\n",
        "\n",
        "    return matrix"
      ],
      "metadata": {
        "id": "dVJrlwLHLcmQ"
      },
      "execution_count": 80,
      "outputs": []
    },
    {
      "cell_type": "code",
      "source": [
        "\n",
        "def midi_to_matrix(midi_file):\n",
        "    # Load the MIDI file\n",
        "    mid = mido.MidiFile(midi_file)\n",
        "\n",
        "    # Get the resolution (ticks per beat) from the MIDI file\n",
        "    resolution = mid.ticks_per_beat\n",
        "\n",
        "    # Get the tempo of the MIDI file\n",
        "    tempo = mido.bpm2tempo(120)\n",
        "    # Initialize the MIDI length to 0\n",
        "    midi_length = 0\n",
        "    # Iterate through all the tracks in the MIDI file\n",
        "    for track in mid.tracks:\n",
        "        # Iterate through all the MIDI events in the track\n",
        "        for msg in track:\n",
        "            if msg.time:\n",
        "                # Calculate the duration of the event in seconds\n",
        "                duration = mido.tick2second(msg.time, tempo, resolution)\n",
        "                # Add the duration to the MIDI length\n",
        "                midi_length += duration\n",
        "\n",
        "    # Create a matrix with 128 rows (for 128 pitches) and 4 * midi_length columns\n",
        "    matrix = np.zeros((128, int(4 * midi_length)))\n",
        "\n",
        "    # Initialize a dictionary to store the current notes\n",
        "    current_notes = {}\n",
        "\n",
        "    # Iterate through all the tracks in the MIDI file\n",
        "    for track in mid.tracks:\n",
        "        # Get the time of the previous event\n",
        "        prev_time = 0\n",
        "        # Iterate through all the MIDI events in the track\n",
        "        for msg in track:\n",
        "            if msg.time:\n",
        "                # Calculate the duration of the event in seconds\n",
        "                duration = mido.tick2second(msg.time, tempo, resolution)\n",
        "                prev_time += duration\n",
        "                # Calculate the column index for the note in terms of 1/4 of a second\n",
        "                column = int(prev_time * 4)\n",
        "                if msg.type == 'note_on':\n",
        "                    # Add the note to the current_notes dictionary\n",
        "                    current_notes[msg.note] = column\n",
        "                elif msg.type == 'note_off':\n",
        "                    # If the note is in current_notes, remove it\n",
        "                    if msg.note in current_notes:\n",
        "                        del current_notes[msg.note]\n",
        "                    # Set the corresponding matrix element to 1 for the column and all columns before it\n",
        "                    for note in current_notes:\n",
        "                        for i in range(current_notes[note], column):\n",
        "                            matrix[note][i] = 1\n",
        "\n",
        "    return matrix"
      ],
      "metadata": {
        "id": "JjsCVYRLTpKQ"
      },
      "execution_count": 88,
      "outputs": []
    },
    {
      "cell_type": "code",
      "source": [
        "bach = midi_to_matrix('bach_847.mid')"
      ],
      "metadata": {
        "id": "RrDunzziTuLd"
      },
      "execution_count": 89,
      "outputs": []
    },
    {
      "cell_type": "code",
      "source": [],
      "metadata": {
        "colab": {
          "base_uri": "https://localhost:8080/"
        },
        "id": "LR8nx9SzUS1b",
        "outputId": "6ec7c505-4778-471e-bb1a-8bb96f99083d"
      },
      "execution_count": 92,
      "outputs": [
        {
          "output_type": "execute_result",
          "data": {
            "text/plain": [
              "array([], shape=(128, 0), dtype=float64)"
            ]
          },
          "metadata": {},
          "execution_count": 92
        }
      ]
    }
  ]
}