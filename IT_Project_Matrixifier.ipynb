{
  "nbformat": 4,
  "nbformat_minor": 0,
  "metadata": {
    "colab": {
      "provenance": [],
      "authorship_tag": "ABX9TyPxp0aIC9g3YbXIu/I43b+C"
    },
    "kernelspec": {
      "name": "python3",
      "display_name": "Python 3"
    },
    "language_info": {
      "name": "python"
    }
  },
  "cells": [
    {
      "cell_type": "markdown",
      "source": [
        "# Midi2Matrix Functions"
      ],
      "metadata": {
        "id": "KTcXIgfvVhNx"
      }
    },
    {
      "cell_type": "code",
      "source": [
        "import mido\n",
        "import string\n",
        "import numpy as np\n",
        "import pandas as pd"
      ],
      "metadata": {
        "id": "hlFbzIKvaaLn"
      },
      "execution_count": 81,
      "outputs": []
    },
    {
      "cell_type": "code",
      "source": [
        "def msg2dict(msg):\n",
        "    result = dict()\n",
        "    if 'note_on' in msg:\n",
        "        on_ = True\n",
        "    elif 'note_off' in msg:\n",
        "        on_ = False\n",
        "    else:\n",
        "        on_ = None\n",
        "    result['time'] = int(msg[msg.rfind('time'):].split(' ')[0].split('=')[1].translate(\n",
        "        str.maketrans({a: None for a in string.punctuation})))\n",
        "\n",
        "    if on_ is not None:\n",
        "        for k in ['note', 'velocity']:\n",
        "            result[k] = int(msg[msg.rfind(k):].split(' ')[0].split('=')[1].translate(\n",
        "                str.maketrans({a: None for a in string.punctuation})))\n",
        "    return [result, on_]"
      ],
      "metadata": {
        "id": "euJIhJAUQxuu"
      },
      "execution_count": 10,
      "outputs": []
    },
    {
      "cell_type": "code",
      "source": [
        "def switch_note(last_state, note, velocity, on_=True):\n",
        "    # piano has 88 notes, corresponding to note id 21 to 108, any note out of this range will be ignored\n",
        "    result = [0] * 88 if last_state is None else last_state.copy()\n",
        "    if 21 <= note <= 108:\n",
        "        result[note-21] = velocity if on_ else 0\n",
        "    return result"
      ],
      "metadata": {
        "id": "yJzNKTvCQv4f"
      },
      "execution_count": 11,
      "outputs": []
    },
    {
      "cell_type": "code",
      "source": [
        "def get_new_state(new_msg, last_state):\n",
        "    new_msg, on_ = msg2dict(str(new_msg))\n",
        "    new_state = switch_note(last_state, note=new_msg['note'], velocity=new_msg['velocity'], on_=on_) if on_ is not None else last_state\n",
        "    return [new_state, new_msg['time']]\n",
        "def track2seq(track):\n",
        "    # piano has 88 notes, corresponding to note id 21 to 108, any note out of the id range will be ignored\n",
        "    result = []\n",
        "    last_state, last_time = get_new_state(str(track[0]), [0]*88)\n",
        "    for i in range(1, len(track)):\n",
        "        new_state, new_time = get_new_state(track[i], last_state)\n",
        "        if new_time > 0:\n",
        "            result += [last_state]*new_time\n",
        "        last_state, last_time = new_state, new_time\n",
        "    return result"
      ],
      "metadata": {
        "id": "GNdpfzFQQtV_"
      },
      "execution_count": 12,
      "outputs": []
    },
    {
      "cell_type": "code",
      "source": [
        "def mid2arry(mid, min_msg_pct=0.1):\n",
        "    tracks_len = [len(tr) for tr in mid.tracks]\n",
        "    min_n_msg = max(tracks_len) * min_msg_pct\n",
        "    # convert each track to nested list\n",
        "    all_arys = []\n",
        "    for i in range(len(mid.tracks)):\n",
        "        if len(mid.tracks[i]) > min_n_msg:\n",
        "            ary_i = track2seq(mid.tracks[i])\n",
        "            all_arys.append(ary_i)\n",
        "    # make all nested list the same length\n",
        "    max_len = max([len(ary) for ary in all_arys])\n",
        "    for i in range(len(all_arys)):\n",
        "        if len(all_arys[i]) < max_len:\n",
        "            all_arys[i] += [[0] * 88] * (max_len - len(all_arys[i]))\n",
        "    all_arys = np.array(all_arys)\n",
        "    all_arys = all_arys.max(axis=0)\n",
        "    # trim: remove consecutive 0s in the beginning and at the end\n",
        "    sums = all_arys.sum(axis=1)\n",
        "    ends = np.where(sums > 0)[0]\n",
        "    return all_arys[min(ends): max(ends)]"
      ],
      "metadata": {
        "id": "hyH3NgbmQkDo"
      },
      "execution_count": 13,
      "outputs": []
    },
    {
      "cell_type": "code",
      "source": [
        "def iteration_interval_calculator(midi, resolution, bpm):\n",
        "  SECOND_MS = 1000\n",
        "  MINUTE_MS = 60000\n",
        "  ppq = midi.ticks_per_beat\n",
        "  single_tick_ms = MINUTE_MS / (bpm * ppq)\n",
        "  single_second_ticks = SECOND_MS / single_tick_ms\n",
        "  column_iter_interval = single_second_ticks / resolution\n",
        "\n",
        "  return int(column_iter_interval)"
      ],
      "metadata": {
        "id": "ZsESlOxqnE4s"
      },
      "execution_count": 157,
      "outputs": []
    },
    {
      "cell_type": "code",
      "source": [
        "def extract_nth_columns(df, n):\n",
        "    extracted_columns = df.iloc[:,::n]\n",
        "    return extracted_columns"
      ],
      "metadata": {
        "id": "8AcVh4PunGOG"
      },
      "execution_count": 150,
      "outputs": []
    },
    {
      "cell_type": "code",
      "source": [
        "def extract_bpm(midi_object):\n",
        "  bpms = []\n",
        "  for track in midi_object.tracks:\n",
        "    for msg in track:\n",
        "        if msg.type == 'set_tempo':\n",
        "            bpm = 60000000 / msg.tempo\n",
        "            bpms.append(bpm)\n",
        "  \n",
        "  return np.mean(bpms)"
      ],
      "metadata": {
        "id": "d6dq9SDXV5At"
      },
      "execution_count": 151,
      "outputs": []
    },
    {
      "cell_type": "code",
      "source": [
        "def midi_2_matrix(midi, resolution, filename):\n",
        "  raw_file = mido.MidiFile(midi, clip=True)\n",
        "  bpm = int(extract_bpm(raw_file))\n",
        "  print(f'BPM of {filename} is {bpm}')\n",
        "  sampling_frequency = iteration_interval_calculator(raw_file, \n",
        "                                                     resolution=resolution, \n",
        "                                                     bpm = bpm)\n",
        "  df_file = pd.DataFrame(mid2arry(raw_file)).T\n",
        "  print(f'{filename}: Shape of the original dataframe: \\n {df_file.shape}')\n",
        "\n",
        "  simplified_df = extract_nth_columns(df_file, sampling_frequency)\n",
        "  print(f'{filename}: Shape of the simplified (sampled at each {sampling_frequency}th column): \\n {simplified_df.shape}')\n",
        "\n",
        "  simplified_df.to_csv(f'{filename}_rawmatrix.csv', sep='\\t')\n"
      ],
      "metadata": {
        "id": "u98BRr5JZCbq"
      },
      "execution_count": 160,
      "outputs": []
    },
    {
      "cell_type": "markdown",
      "source": [
        "# Application"
      ],
      "metadata": {
        "id": "Xf5VqMUlrNQo"
      }
    },
    {
      "cell_type": "markdown",
      "source": [
        "## Baroque / Classical"
      ],
      "metadata": {
        "id": "jnBdy-9HMtKB"
      }
    },
    {
      "cell_type": "code",
      "source": [
        "midi_2_matrix('goldberg_variation1.mid', resolution = 8, filename= 'goldberg')\n",
        "midi_2_matrix('bach_847.mid', resolution = 8, filename = 'bach_847')"
      ],
      "metadata": {
        "colab": {
          "base_uri": "https://localhost:8080/"
        },
        "id": "DS7jgrkIUX5d",
        "outputId": "a5b8a18e-af4e-4169-9916-4b3753daeb44"
      },
      "execution_count": 162,
      "outputs": [
        {
          "output_type": "stream",
          "name": "stdout",
          "text": [
            "BPM of goldberg is 74\n",
            "goldberg: Shape of the original dataframe: \n",
            " (88, 92159)\n",
            "goldberg: Shape of the simplified (sampled at each 74th column): \n",
            " (88, 1246)\n",
            "BPM of bach_847 is 118\n",
            "bach_847: Shape of the original dataframe: \n",
            " (88, 132476)\n",
            "bach_847: Shape of the simplified (sampled at each 117th column): \n",
            " (88, 1133)\n"
          ]
        }
      ]
    },
    {
      "cell_type": "code",
      "source": [
        "midi_2_matrix('haydn_sonata50.mid', resolution=8, filename='haydn50')\n",
        "midi_2_matrix('mz_331_3.mid', resolution = 8, filename = 'mozart_turca')"
      ],
      "metadata": {
        "colab": {
          "base_uri": "https://localhost:8080/"
        },
        "id": "na0Aq5zQVTXW",
        "outputId": "dd308aca-01b9-4f38-8182-7203b94b2af4"
      },
      "execution_count": 163,
      "outputs": [
        {
          "output_type": "stream",
          "name": "stdout",
          "text": [
            "BPM of haydn50 is 150\n",
            "haydn50: Shape of the original dataframe: \n",
            " (88, 79000)\n",
            "haydn50: Shape of the simplified (sampled at each 29th column): \n",
            " (88, 2725)\n",
            "BPM of mozart_turca is 139\n",
            "mozart_turca: Shape of the original dataframe: \n",
            " (88, 214079)\n",
            "mozart_turca: Shape of the simplified (sampled at each 139th column): \n",
            " (88, 1541)\n"
          ]
        }
      ]
    },
    {
      "cell_type": "markdown",
      "source": [
        "## Romantic"
      ],
      "metadata": {
        "id": "wakR1JZnY9FU"
      }
    },
    {
      "cell_type": "code",
      "source": [
        "midi_2_matrix('Waltz-in-C-Sharp-Minor-Opus-64-Nr-2.mid', resolution=8, filename = 'chopinwaltz')\n",
        "midi_2_matrix('liz_liebestraum.mid', resolution=8, filename = 'liszt')\n",
        "midi_2_matrix('schubert_impromptu2.mid', resolution = 8, filename = 'schubertimp')\n",
        "midi_2_matrix('tchaikovsky_june.mid', resolution = 8, filename = 'tchaikovsky')"
      ],
      "metadata": {
        "colab": {
          "base_uri": "https://localhost:8080/"
        },
        "id": "trKqQFGGY73Z",
        "outputId": "c6a9d579-de5a-421e-8570-93d54fbc9bb7"
      },
      "execution_count": 165,
      "outputs": [
        {
          "output_type": "stream",
          "name": "stdout",
          "text": [
            "BPM of chopinwaltz is 120\n",
            "chopinwaltz: Shape of the original dataframe: \n",
            " (88, 185231)\n",
            "chopinwaltz: Shape of the simplified (sampled at each 96th column): \n",
            " (88, 1930)\n",
            "BPM of liszt is 139\n",
            "liszt: Shape of the original dataframe: \n",
            " (88, 260639)\n",
            "liszt: Shape of the simplified (sampled at each 139th column): \n",
            " (88, 1876)\n",
            "BPM of schubertimp is 180\n",
            "schubertimp: Shape of the original dataframe: \n",
            " (88, 407039)\n",
            "schubertimp: Shape of the simplified (sampled at each 180th column): \n",
            " (88, 2262)\n",
            "BPM of tchaikovsky is 101\n",
            "tchaikovsky: Shape of the original dataframe: \n",
            " (88, 184319)\n",
            "tchaikovsky: Shape of the simplified (sampled at each 101th column): \n",
            " (88, 1825)\n"
          ]
        }
      ]
    },
    {
      "cell_type": "markdown",
      "source": [
        "## Early Modern"
      ],
      "metadata": {
        "id": "9ka4bS-megJj"
      }
    },
    {
      "cell_type": "code",
      "source": [
        "midi_2_matrix('bartok_piano_sonata_1_cunknown.mid', resolution=8, filename = 'bartoksonata')\n",
        "midi_2_matrix('debussyprelude.mid', resolution=8, filename = 'debussyprelude')\n",
        "midi_2_matrix('vers_la_flamme_72_(c)lefeldt.mid', resolution = 8, filename = 'scriabin_vers')\n",
        "midi_2_matrix('schoenberg_drei_klavierstucke_11_3_(c)simonetto.mid', resolution = 8, filename = 'schoenberg')"
      ],
      "metadata": {
        "colab": {
          "base_uri": "https://localhost:8080/"
        },
        "id": "sPVMZbPHefgH",
        "outputId": "3718af06-b30d-409c-dab9-fe8e71f88aa0"
      },
      "execution_count": 166,
      "outputs": [
        {
          "output_type": "stream",
          "name": "stdout",
          "text": [
            "BPM of bartoksonata is 132\n",
            "bartoksonata: Shape of the original dataframe: \n",
            " (88, 553535)\n",
            "bartoksonata: Shape of the simplified (sampled at each 281th column): \n",
            " (88, 1970)\n",
            "BPM of debussyprelude is 40\n",
            "debussyprelude: Shape of the original dataframe: \n",
            " (88, 22047)\n",
            "debussyprelude: Shape of the simplified (sampled at each 16th column): \n",
            " (88, 1378)\n",
            "BPM of scriabin_vers is 123\n",
            "scriabin_vers: Shape of the original dataframe: \n",
            " (88, 629247)\n",
            "scriabin_vers: Shape of the simplified (sampled at each 262th column): \n",
            " (88, 2402)\n",
            "BPM of schoenberg is 120\n",
            "schoenberg: Shape of the original dataframe: \n",
            " (88, 107007)\n",
            "schoenberg: Shape of the simplified (sampled at each 96th column): \n",
            " (88, 1115)\n"
          ]
        }
      ]
    },
    {
      "cell_type": "markdown",
      "source": [
        "## Contemporary"
      ],
      "metadata": {
        "id": "mCRMDnBWgrKZ"
      }
    },
    {
      "cell_type": "code",
      "source": [
        "midi_2_matrix('BoulezPREMIERE_SONATE1946.mid', resolution=8, filename = 'boulez_sonata')\n",
        "midi_2_matrix('evryalixx.mid', resolution=8, filename = 'xenakis_evyrali')\n",
        "midi_2_matrix('messiaen_la_nativite_du_seigneur_6_(c)mccoy.mid', resolution = 8, filename = 'messiaen_lesagnes')\n",
        "midi_2_matrix('tude_1_Dsordre__Gyrgy_Ligeti_with_annotationcolor_coding.mid', resolution = 8, filename = 'ligeti_disordre')"
      ],
      "metadata": {
        "colab": {
          "base_uri": "https://localhost:8080/"
        },
        "id": "YwRb_PRvgpA-",
        "outputId": "e8c181f3-fa86-4d3f-dba2-185604abf865"
      },
      "execution_count": 167,
      "outputs": [
        {
          "output_type": "stream",
          "name": "stdout",
          "text": [
            "BPM of boulez_sonata is 62\n",
            "boulez_sonata: Shape of the original dataframe: \n",
            " (88, 76912)\n",
            "boulez_sonata: Shape of the simplified (sampled at each 62th column): \n",
            " (88, 1241)\n",
            "BPM of xenakis_evyrali is 96\n",
            "xenakis_evyrali: Shape of the original dataframe: \n",
            " (88, 453527)\n",
            "xenakis_evyrali: Shape of the simplified (sampled at each 96th column): \n",
            " (88, 4725)\n",
            "BPM of messiaen_lesagnes is 107\n",
            "messiaen_lesagnes: Shape of the original dataframe: \n",
            " (88, 37169)\n",
            "messiaen_lesagnes: Shape of the simplified (sampled at each 26th column): \n",
            " (88, 1430)\n",
            "BPM of ligeti_disordre is 252\n",
            "ligeti_disordre: Shape of the original dataframe: \n",
            " (88, 255106)\n",
            "ligeti_disordre: Shape of the simplified (sampled at each 252th column): \n",
            " (88, 1013)\n"
          ]
        }
      ]
    }
  ]
}